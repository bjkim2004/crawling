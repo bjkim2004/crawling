{
 "cells": [
  {
   "cell_type": "code",
   "execution_count": 16,
   "metadata": {},
   "outputs": [],
   "source": [
    "import json"
   ]
  },
  {
   "cell_type": "code",
   "execution_count": 20,
   "metadata": {},
   "outputs": [],
   "source": [
    "cities = [ \n",
    "{'rank': 1, 'city':'상하이', 'population': 24150000},\n",
    "{'rank': 2, 'city':'카라치', 'population': 23500000},\n",
    "{'rank': 3, 'city':'베이징', 'population': 21516000},\n",
    "{'rank': 4, 'city':'텐진', 'population': 14722100}, \n",
    "{'rank': 5, 'city':'이스탄불', 'population':14160467},\n",
    "]"
   ]
  },
  {
   "cell_type": "code",
   "execution_count": 22,
   "metadata": {},
   "outputs": [
    {
     "name": "stdout",
     "output_type": "stream",
     "text": [
      "[\n",
      "  {\n",
      "    \"rank\": 1,\n",
      "    \"city\": \"상하이\",\n",
      "    \"population\": 24150000\n",
      "  },\n",
      "  {\n",
      "    \"rank\": 2,\n",
      "    \"city\": \"카라치\",\n",
      "    \"population\": 23500000\n",
      "  },\n",
      "  {\n",
      "    \"rank\": 3,\n",
      "    \"city\": \"베이징\",\n",
      "    \"population\": 21516000\n",
      "  },\n",
      "  {\n",
      "    \"rank\": 4,\n",
      "    \"city\": \"텐진\",\n",
      "    \"population\": 14722100\n",
      "  },\n",
      "  {\n",
      "    \"rank\": 5,\n",
      "    \"city\": \"이스탄불\",\n",
      "    \"population\": 14160467\n",
      "  }\n",
      "]\n"
     ]
    }
   ],
   "source": [
    "print(json.dumps(cities, ensure_ascii=False, indent=2))"
   ]
  },
  {
   "cell_type": "code",
   "execution_count": 24,
   "metadata": {},
   "outputs": [],
   "source": [
    "with open('top_cities.json', 'w') as f:\n",
    "    json.dump(cities, f)"
   ]
  },
  {
   "cell_type": "code",
   "execution_count": null,
   "metadata": {},
   "outputs": [],
   "source": []
  }
 ],
 "metadata": {
  "kernelspec": {
   "display_name": "Python 3",
   "language": "python",
   "name": "python3"
  },
  "language_info": {
   "codemirror_mode": {
    "name": "ipython",
    "version": 3
   },
   "file_extension": ".py",
   "mimetype": "text/x-python",
   "name": "python",
   "nbconvert_exporter": "python",
   "pygments_lexer": "ipython3",
   "version": "3.7.3"
  }
 },
 "nbformat": 4,
 "nbformat_minor": 4
}
