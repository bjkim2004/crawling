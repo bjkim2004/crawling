{
 "cells": [
  {
   "cell_type": "code",
   "execution_count": 15,
   "metadata": {},
   "outputs": [
    {
     "name": "stdout",
     "output_type": "stream",
     "text": [
      "Collecting pyquery\n",
      "  Downloading https://files.pythonhosted.org/packages/78/43/95d42e386c61cb639d1a0b94f0c0b9f0b7d6b981ad3c043a836c8b5bc68b/pyquery-1.4.1-py2.py3-none-any.whl\n",
      "Requirement already satisfied: lxml>=2.1 in c:\\users\\bjkim\\anaconda3\\lib\\site-packages (from pyquery) (4.3.4)\n",
      "Requirement already satisfied: cssselect>0.7.9 in c:\\users\\bjkim\\anaconda3\\lib\\site-packages (from pyquery) (1.1.0)\n",
      "Installing collected packages: pyquery\n",
      "Successfully installed pyquery-1.4.1\n"
     ]
    }
   ],
   "source": [
    "# !pip install pyquery"
   ]
  },
  {
   "cell_type": "code",
   "execution_count": 21,
   "metadata": {},
   "outputs": [],
   "source": [
    "from pyquery import PyQuery # PyQuery 클래스 로드"
   ]
  },
  {
   "cell_type": "code",
   "execution_count": 24,
   "metadata": {},
   "outputs": [],
   "source": [
    "d = PyQuery(filename='data/full_book_list.html', encoding='utf-8')# 파일 경로를 지정해서 파싱"
   ]
  },
  {
   "cell_type": "code",
   "execution_count": 26,
   "metadata": {},
   "outputs": [],
   "source": [
    "d = PyQuery(url='https://www.hanbit.co.kr/store/books/full_book_list.html') # URL를 지정해서 파싱"
   ]
  },
  {
   "cell_type": "code",
   "execution_count": 35,
   "metadata": {},
   "outputs": [],
   "source": [
    "div = d('div')"
   ]
  },
  {
   "cell_type": "code",
   "execution_count": 41,
   "metadata": {},
   "outputs": [
    {
     "data": {
      "text/plain": [
       "pyquery.pyquery.PyQuery"
      ]
     },
     "execution_count": 41,
     "metadata": {},
     "output_type": "execute_result"
    }
   ],
   "source": [
    "type(div)"
   ]
  },
  {
   "cell_type": "code",
   "execution_count": 42,
   "metadata": {},
   "outputs": [
    {
     "data": {
      "text/plain": [
       "<Element div at 0x221aafeb9a8>"
      ]
     },
     "execution_count": 42,
     "metadata": {},
     "output_type": "execute_result"
    }
   ],
   "source": [
    "div[0]"
   ]
  },
  {
   "cell_type": "code",
   "execution_count": 44,
   "metadata": {
    "scrolled": true
   },
   "outputs": [
    {
     "data": {
      "text/plain": [
       "'메뉴 바로가기 검색 및 카테고리 바로가기 본문 바로가기 HOME\\n한빛미디어\\n한빛아카데미\\n한빛비즈\\n한빛라이프\\n한빛에듀\\n리얼타임\\n한빛정보교과서\\n한빛대관서비스\\n로그인\\n회원가입\\n마이한빛\\n장바구니 한빛출판네트워크\\nBRAND\\nChannel.H\\nSTORE\\nSUPPORT\\nEVENT\\nSERACH\\n카테고리\\nIT/모바일\\n프로그래밍\\n웹\\n모바일/스마트기기\\n데이터베이스\\n운영체제\\n하드웨어\\n시스템/네트워크\\n보안\\n비즈니스/문화\\n게임\\nIT에세이\\n자격증\\n인공지능/데이터과학\\nMAKE\\nMake 매거진\\nMake 프로젝트 북\\nIT활용\\n오피스/OA\\n그래픽/멀티미디어\\n사진/예술\\n컴퓨터입문/IT교양\\n대학교재\\n컴퓨터공학\\n정보통신/전기/전자\\n수학/과학/공학\\n프로그래밍/웹\\n그래픽/디자인\\nOA/활용\\n수험서/자격증\\n실용서\\n취미/실용\\n여행\\n건강\\n유아/육아\\n경제/경영/인문\\n경제/경영\\n자기계발\\n인문/교양\\n마케팅\\n에세이\\n유아/어린이/초등\\n4~6세\\n5~7세\\n예비초등\\n초등교과연계 1~12영역\\n초등 전학년\\n시리즈\\n예약도서\\n새로나온 책\\nl\\n베스트셀러\\nl\\n전체도서목록\\nl\\n교육\\nl\\nItem & Maker Shed BRAND\\nChannel.H\\nSTORE\\nSUPPORT\\nEVENT\\nSERACH 카테고리\\nIT/모바일\\n프로그래밍\\n웹\\n모바일/스마트기기\\n데이터베이스\\n운영체제\\n하드웨어\\n시스템/네트워크\\n보안\\n비즈니스/문화\\n게임\\nIT에세이\\n자격증\\n인공지능/데이터과학\\nMAKE\\nMake 매거진\\nMake 프로젝트 북\\nIT활용\\n오피스/OA\\n그래픽/멀티미디어\\n사진/예술\\n컴퓨터입문/IT교양\\n대학교재\\n컴퓨터공학\\n정보통신/전기/전자\\n수학/과학/공학\\n프로그래밍/웹\\n그래픽/디자인\\nOA/활용\\n수험서/자격증\\n실용서\\n취미/실용\\n여행\\n건강\\n유아/육아\\n경제/경영/인문\\n경제/경영\\n자기계발\\n인문/교양\\n마케팅\\n에세이\\n유아/어린이/초등\\n4~6세\\n5~7세\\n예비초등\\n초등교과연계 1~12영역\\n초등 전학년\\n시리즈\\n예약도서\\n새로나온 책\\nl\\n베스트셀러\\nl\\n전체도서목록\\nl\\n교육\\nl\\nItem & Maker Shed 카테고리\\nIT/모바일\\n프로그래밍\\n웹\\n모바일/스마트기기\\n데이터베이스\\n운영체제\\n하드웨어\\n시스템/네트워크\\n보안\\n비즈니스/문화\\n게임\\nIT에세이\\n자격증\\n인공지능/데이터과학\\nMAKE\\nMake 매거진\\nMake 프로젝트 북\\nIT활용\\n오피스/OA\\n그래픽/멀티미디어\\n사진/예술\\n컴퓨터입문/IT교양\\n대학교재\\n컴퓨터공학\\n정보통신/전기/전자\\n수학/과학/공학\\n프로그래밍/웹\\n그래픽/디자인\\nOA/활용\\n수험서/자격증\\n실용서\\n취미/실용\\n여행\\n건강\\n유아/육아\\n경제/경영/인문\\n경제/경영\\n자기계발\\n인문/교양\\n마케팅\\n에세이\\n유아/어린이/초등\\n4~6세\\n5~7세\\n예비초등\\n초등교과연계 1~12영역\\n초등 전학년\\n시리즈\\n예약도서\\n새로나온 책\\nl\\n베스트셀러\\nl\\n전체도서목록\\nl\\n교육\\nl\\nItem & Maker Shed 한빛출판네트워크 검색\\n인기 검색어 (최근 1개월간)\\n{{ keyword.number }} {{ keyword.bookName }}\\n{{ keyword.number }} {{ keyword.bookName }}\\nBOOK\\n{{ bookSummary.author }} 지음\\n{{ bookSummary.publishingCompany }} | {{ bookSummary.date }}\\n{{ bookSummary.bookType }}\\nEDUCATION\\n\\x95\\nCONTENTS\\n\\x95\\n닫기 한빛출판네트워크 검색\\n인기 검색어 (최근 1개월간)\\n{{ keyword.number }} {{ keyword.bookName }}\\n{{ keyword.number }} {{ keyword.bookName }}\\nBOOK\\n{{ bookSummary.author }} 지음\\n{{ bookSummary.publishingCompany }} | {{ bookSummary.date }}\\n{{ bookSummary.bookType }}\\nEDUCATION\\n\\x95\\nCONTENTS\\n\\x95\\n닫기 한빛출판네트워크 검색 인기 검색어 (최근 1개월간)\\n{{ keyword.number }} {{ keyword.bookName }}\\n{{ keyword.number }} {{ keyword.bookName }} {{ keyword.number }} {{ keyword.bookName }}\\n{{ keyword.number }} {{ keyword.bookName }} BOOK\\n{{ bookSummary.author }} 지음\\n{{ bookSummary.publishingCompany }} | {{ bookSummary.date }}\\n{{ bookSummary.bookType }}\\nEDUCATION\\n\\x95\\nCONTENTS\\n\\x95 BOOK {{ bookSummary.author }} 지음\\n{{ bookSummary.publishingCompany }} | {{ bookSummary.date }}\\n{{ bookSummary.bookType }}\\nEDUCATION\\n\\x95\\nCONTENTS\\n\\x95 {{ bookSummary.author }} 지음\\n{{ bookSummary.publishingCompany }} | {{ bookSummary.date }}\\n{{ bookSummary.bookType }} EDUCATION\\n\\x95 CONTENTS\\n\\x95 닫기 전체도서목록\\n전체\\nM\\nA\\nB\\nL\\nE\\nR\\nMK\\n출간일 순\\n도서명 순\\n전체 목록 다운로드\\n전체목록 리스트\\n브랜드\\n도서명\\n저자\\n발행일\\n정가\\n한빛미디어\\n파이썬 증권 데이터 분석\\n김황후\\n2020-07-01\\n32,000원\\n한빛미디어\\n나의 첫 파이썬(2판)\\n에릭 마테스\\n2020-07-01\\n30,000원\\n한빛라이프\\n나는 왜 네 말이 힘들까\\n박재연\\n2020-07-01\\n16,800원\\n한빛미디어\\n혼자 공부하는 첫 프로그래밍 with 파이썬\\n문현일\\n2020-06-30\\n17,000원\\n한빛비즈\\n퇴근길 인문학 수업 : 뉴노멀\\n백상경제연구원 외 12명\\n2020-06-30\\n17,000원\\n한빛미디어\\n실전 자바 소프트웨어 개발\\n라울-게이브리얼 우르마 외 1명\\n2020-06-20\\n18,000원\\n한빛아카데미\\nIT CookBook, 쉽게 배우는 MFC 윈도우 프로그래밍\\n김선우 외 1명\\n2020-06-20\\n30,000원\\n한빛아카데미\\nIT CookBook, 인공지능 시대를 위한 컴퓨터 과학 개론\\n정기철\\n2020-06-19\\n27,000원\\n한빛비즈\\n까면서 보는 해부학 만화\\n압듈라 외 1명\\n2020-06-19\\n18,500원\\n한빛아카데미\\nIT CookBook, 코틀린을 활용한 안드로이드 프로그래밍\\n우재남 외 1명\\n2020-06-19\\n34,000원\\n한빛비즈\\n뱅크 4.0\\n브렛 킹\\n2020-06-15\\n18,000원\\n한빛미디어\\n클라우드 네이티브\\n보리스 숄 외 2명\\n2020-06-13\\n22,000원\\n한빛아카데미\\nIT CookBook, 처음 만나는 신재생에너지\\n김지홍\\n2020-06-10\\n25,000원\\n한빛아카데미\\n프리드버그 선형대수학\\n스티븐 H. 프리드버그 외 2명\\n2020-06-05\\n35,000원\\n한빛미디어\\n이더리움 디앱 개발\\n로베르토 인판테\\n2020-06-04\\n40,000원\\n한빛미디어\\n딥러닝과 바둑\\n막스 펌펄라 외 1명\\n2020-06-01\\n36,000원\\n한빛비즈\\nCIA 요원, 최강 비즈니스맨이 되다\\n제이슨 핸슨\\n2020-06-01\\n15,800원\\n한빛미디어\\n필수 공식으로 하루에 하나씩 정복하는 엑셀 업무 공략집\\n최준선\\n2020-06-01\\n19,000원\\n한빛아카데미\\nIT CookBook, CentOS 리눅스\\n이종원\\n2020-05-30\\n32,000원\\n한빛비즈\\n2020 부동산 세금 사용설명서\\n김성일\\n2020-05-26\\n11,200원\\n한빛비즈\\n내러티브 앤 넘버스\\n애스워드 다모다란\\n2020-05-20\\n18,000원\\n한빛에듀\\n똑똑한 두뇌 연습 : 세계 여행 다른 그림 찾기\\n제니 에스피노사\\n2020-05-15\\n8,000원\\n한빛에듀\\n똑똑한 두뇌 연습 : 점 잇기\\n조 문\\n2020-05-15\\n8,000원\\n한빛비즈\\n포스트 코로나\\n임승규(국제경제) 외 6명\\n2020-05-15\\n18,000원\\n한빛에듀\\n똑똑한 두뇌 연습 100 : 공주, 동물, 색칠 세트\\n발롱 미디어\\n2020-05-15\\n18,000원\\n한빛에듀\\n똑똑한 두뇌 연습 100 : 탈것, 동물, 축구 세트\\n발롱 미디어\\n2020-05-15\\n18,000원\\n한빛미디어\\n만들면서 배우는 워드프레스 (개정2판)\\n박현우\\n2020-05-11\\n26,000원\\n한빛미디어\\n이것이 MySQL이다(개정판)\\n우재남\\n2020-05-10\\n32,000원\\n한빛에듀\\n미로 마스터 LEVEL2. 미스터리 미로\\n마크 워커\\n2020-05-08\\n8,000원\\n한빛에듀\\n미로 마스터 LEVEL3. 크레이지 미로\\n사이먼 워드\\n2020-05-08\\n8,000원\\n한빛미디어\\n회사에서 바로 통하는 파워포인트 FOR STARTERS\\n이화진\\n2020-05-07\\n15,000원\\n한빛미디어\\n핸즈온 머신러닝(2판)\\n오렐리앙 제롱(Aurélien Géron)\\n2020-05-04\\n55,000원\\n한빛미디어\\n배워서 바로 쓰는 스프링 프레임워크\\n애시시 사린 외 1명\\n2020-05-01\\n50,000원\\n한빛미디어\\nBPF로 리눅스 관측 가능성 향상하기\\n데이비드 칼라베라 외 1명\\n2020-05-01\\n22,000원\\n한빛비즈\\n4차 인간\\n이미솔 외 1명\\n2020-04-30\\n16,800원\\n한빛비즈\\n할짝 심리학\\n이한나\\n2020-04-30\\n15,800원\\n한빛미디어\\n이것이 안드로이드다 with 코틀린\\n고돈호\\n2020-04-25\\n34,000원\\n한빛비즈\\n나는 불평을 그만두기로 했다\\n크리스틴 르위키\\n2020-04-20\\n15,000원\\n한빛라이프\\n오늘도 화내고 말았습니다\\n박윤미\\n2020-04-20\\n14,800원\\n한빛미디어\\n배워서 바로 쓰는 스프링 부트 2\\n히로스에 다케시 외 1명\\n2020-04-16\\n28,000원\\n한빛미디어\\n학교에서 알려주지 않는 17가지 실무 개발 기술\\n이기곤\\n2020-04-16\\n20,000원\\n한빛미디어\\n이것이 리눅스다 (개정판) with RedHat CentOS 8\\n우재남\\n2020-04-10\\n32,000원\\n한빛미디어\\n회사에서 바로 통하는 실무 엑셀+파워포인트+워드&한글(개정판)\\n전미진 외 2명\\n2020-04-10\\n22,000원\\n한빛비즈\\n은밀한 설계자들\\n클라이브 톰슨\\n2020-04-06\\n25,000원\\n한빛미디어\\n줄리아를 생각하다\\n벤 로언스 외 1명\\n2020-04-06\\n30,000원\\n한빛비즈\\n타겟티드\\n브리태니 카이저\\n2020-04-06\\n18,000원\\n한빛아카데미\\n누구나 파이썬 통계분석\\n타니아이 히로키\\n2020-04-06\\n26,000원\\n한빛비즈\\n이기적 유인원\\n니컬러스 머니\\n2020-04-03\\n17,000원\\n한빛에듀\\n미로 마스터 LEVEL1. 세계 미로 대탈출\\n앤디 피터스\\n2020-04-03\\n8,000원\\n한빛에듀\\n미로 마스터 LEVEL1. 우주 미로 대탈출\\n앤디 피터스\\n2020-04-03\\n8,000원\\n1 2 3 4 5 6 7 8 9 10 >\\n전체 목록 다운로드 전체도서목록 전체\\nM\\nA\\nB\\nL\\nE\\nR\\nMK\\n출간일 순\\n도서명 순\\n전체 목록 다운로드\\n전체목록 리스트\\n브랜드\\n도서명\\n저자\\n발행일\\n정가\\n한빛미디어\\n파이썬 증권 데이터 분석\\n김황후\\n2020-07-01\\n32,000원\\n한빛미디어\\n나의 첫 파이썬(2판)\\n에릭 마테스\\n2020-07-01\\n30,000원\\n한빛라이프\\n나는 왜 네 말이 힘들까\\n박재연\\n2020-07-01\\n16,800원\\n한빛미디어\\n혼자 공부하는 첫 프로그래밍 with 파이썬\\n문현일\\n2020-06-30\\n17,000원\\n한빛비즈\\n퇴근길 인문학 수업 : 뉴노멀\\n백상경제연구원 외 12명\\n2020-06-30\\n17,000원\\n한빛미디어\\n실전 자바 소프트웨어 개발\\n라울-게이브리얼 우르마 외 1명\\n2020-06-20\\n18,000원\\n한빛아카데미\\nIT CookBook, 쉽게 배우는 MFC 윈도우 프로그래밍\\n김선우 외 1명\\n2020-06-20\\n30,000원\\n한빛아카데미\\nIT CookBook, 인공지능 시대를 위한 컴퓨터 과학 개론\\n정기철\\n2020-06-19\\n27,000원\\n한빛비즈\\n까면서 보는 해부학 만화\\n압듈라 외 1명\\n2020-06-19\\n18,500원\\n한빛아카데미\\nIT CookBook, 코틀린을 활용한 안드로이드 프로그래밍\\n우재남 외 1명\\n2020-06-19\\n34,000원\\n한빛비즈\\n뱅크 4.0\\n브렛 킹\\n2020-06-15\\n18,000원\\n한빛미디어\\n클라우드 네이티브\\n보리스 숄 외 2명\\n2020-06-13\\n22,000원\\n한빛아카데미\\nIT CookBook, 처음 만나는 신재생에너지\\n김지홍\\n2020-06-10\\n25,000원\\n한빛아카데미\\n프리드버그 선형대수학\\n스티븐 H. 프리드버그 외 2명\\n2020-06-05\\n35,000원\\n한빛미디어\\n이더리움 디앱 개발\\n로베르토 인판테\\n2020-06-04\\n40,000원\\n한빛미디어\\n딥러닝과 바둑\\n막스 펌펄라 외 1명\\n2020-06-01\\n36,000원\\n한빛비즈\\nCIA 요원, 최강 비즈니스맨이 되다\\n제이슨 핸슨\\n2020-06-01\\n15,800원\\n한빛미디어\\n필수 공식으로 하루에 하나씩 정복하는 엑셀 업무 공략집\\n최준선\\n2020-06-01\\n19,000원\\n한빛아카데미\\nIT CookBook, CentOS 리눅스\\n이종원\\n2020-05-30\\n32,000원\\n한빛비즈\\n2020 부동산 세금 사용설명서\\n김성일\\n2020-05-26\\n11,200원\\n한빛비즈\\n내러티브 앤 넘버스\\n애스워드 다모다란\\n2020-05-20\\n18,000원\\n한빛에듀\\n똑똑한 두뇌 연습 : 세계 여행 다른 그림 찾기\\n제니 에스피노사\\n2020-05-15\\n8,000원\\n한빛에듀\\n똑똑한 두뇌 연습 : 점 잇기\\n조 문\\n2020-05-15\\n8,000원\\n한빛비즈\\n포스트 코로나\\n임승규(국제경제) 외 6명\\n2020-05-15\\n18,000원\\n한빛에듀\\n똑똑한 두뇌 연습 100 : 공주, 동물, 색칠 세트\\n발롱 미디어\\n2020-05-15\\n18,000원\\n한빛에듀\\n똑똑한 두뇌 연습 100 : 탈것, 동물, 축구 세트\\n발롱 미디어\\n2020-05-15\\n18,000원\\n한빛미디어\\n만들면서 배우는 워드프레스 (개정2판)\\n박현우\\n2020-05-11\\n26,000원\\n한빛미디어\\n이것이 MySQL이다(개정판)\\n우재남\\n2020-05-10\\n32,000원\\n한빛에듀\\n미로 마스터 LEVEL2. 미스터리 미로\\n마크 워커\\n2020-05-08\\n8,000원\\n한빛에듀\\n미로 마스터 LEVEL3. 크레이지 미로\\n사이먼 워드\\n2020-05-08\\n8,000원\\n한빛미디어\\n회사에서 바로 통하는 파워포인트 FOR STARTERS\\n이화진\\n2020-05-07\\n15,000원\\n한빛미디어\\n핸즈온 머신러닝(2판)\\n오렐리앙 제롱(Aurélien Géron)\\n2020-05-04\\n55,000원\\n한빛미디어\\n배워서 바로 쓰는 스프링 프레임워크\\n애시시 사린 외 1명\\n2020-05-01\\n50,000원\\n한빛미디어\\nBPF로 리눅스 관측 가능성 향상하기\\n데이비드 칼라베라 외 1명\\n2020-05-01\\n22,000원\\n한빛비즈\\n4차 인간\\n이미솔 외 1명\\n2020-04-30\\n16,800원\\n한빛비즈\\n할짝 심리학\\n이한나\\n2020-04-30\\n15,800원\\n한빛미디어\\n이것이 안드로이드다 with 코틀린\\n고돈호\\n2020-04-25\\n34,000원\\n한빛비즈\\n나는 불평을 그만두기로 했다\\n크리스틴 르위키\\n2020-04-20\\n15,000원\\n한빛라이프\\n오늘도 화내고 말았습니다\\n박윤미\\n2020-04-20\\n14,800원\\n한빛미디어\\n배워서 바로 쓰는 스프링 부트 2\\n히로스에 다케시 외 1명\\n2020-04-16\\n28,000원\\n한빛미디어\\n학교에서 알려주지 않는 17가지 실무 개발 기술\\n이기곤\\n2020-04-16\\n20,000원\\n한빛미디어\\n이것이 리눅스다 (개정판) with RedHat CentOS 8\\n우재남\\n2020-04-10\\n32,000원\\n한빛미디어\\n회사에서 바로 통하는 실무 엑셀+파워포인트+워드&한글(개정판)\\n전미진 외 2명\\n2020-04-10\\n22,000원\\n한빛비즈\\n은밀한 설계자들\\n클라이브 톰슨\\n2020-04-06\\n25,000원\\n한빛미디어\\n줄리아를 생각하다\\n벤 로언스 외 1명\\n2020-04-06\\n30,000원\\n한빛비즈\\n타겟티드\\n브리태니 카이저\\n2020-04-06\\n18,000원\\n한빛아카데미\\n누구나 파이썬 통계분석\\n타니아이 히로키\\n2020-04-06\\n26,000원\\n한빛비즈\\n이기적 유인원\\n니컬러스 머니\\n2020-04-03\\n17,000원\\n한빛에듀\\n미로 마스터 LEVEL1. 세계 미로 대탈출\\n앤디 피터스\\n2020-04-03\\n8,000원\\n한빛에듀\\n미로 마스터 LEVEL1. 우주 미로 대탈출\\n앤디 피터스\\n2020-04-03\\n8,000원\\n1 2 3 4 5 6 7 8 9 10 >\\n전체 목록 다운로드 전체\\nM\\nA\\nB\\nL\\nE\\nR\\nMK 출간일 순\\n도서명 순 전체 목록 다운로드 전체목록 리스트\\n브랜드\\n도서명\\n저자\\n발행일\\n정가\\n한빛미디어\\n파이썬 증권 데이터 분석\\n김황후\\n2020-07-01\\n32,000원\\n한빛미디어\\n나의 첫 파이썬(2판)\\n에릭 마테스\\n2020-07-01\\n30,000원\\n한빛라이프\\n나는 왜 네 말이 힘들까\\n박재연\\n2020-07-01\\n16,800원\\n한빛미디어\\n혼자 공부하는 첫 프로그래밍 with 파이썬\\n문현일\\n2020-06-30\\n17,000원\\n한빛비즈\\n퇴근길 인문학 수업 : 뉴노멀\\n백상경제연구원 외 12명\\n2020-06-30\\n17,000원\\n한빛미디어\\n실전 자바 소프트웨어 개발\\n라울-게이브리얼 우르마 외 1명\\n2020-06-20\\n18,000원\\n한빛아카데미\\nIT CookBook, 쉽게 배우는 MFC 윈도우 프로그래밍\\n김선우 외 1명\\n2020-06-20\\n30,000원\\n한빛아카데미\\nIT CookBook, 인공지능 시대를 위한 컴퓨터 과학 개론\\n정기철\\n2020-06-19\\n27,000원\\n한빛비즈\\n까면서 보는 해부학 만화\\n압듈라 외 1명\\n2020-06-19\\n18,500원\\n한빛아카데미\\nIT CookBook, 코틀린을 활용한 안드로이드 프로그래밍\\n우재남 외 1명\\n2020-06-19\\n34,000원\\n한빛비즈\\n뱅크 4.0\\n브렛 킹\\n2020-06-15\\n18,000원\\n한빛미디어\\n클라우드 네이티브\\n보리스 숄 외 2명\\n2020-06-13\\n22,000원\\n한빛아카데미\\nIT CookBook, 처음 만나는 신재생에너지\\n김지홍\\n2020-06-10\\n25,000원\\n한빛아카데미\\n프리드버그 선형대수학\\n스티븐 H. 프리드버그 외 2명\\n2020-06-05\\n35,000원\\n한빛미디어\\n이더리움 디앱 개발\\n로베르토 인판테\\n2020-06-04\\n40,000원\\n한빛미디어\\n딥러닝과 바둑\\n막스 펌펄라 외 1명\\n2020-06-01\\n36,000원\\n한빛비즈\\nCIA 요원, 최강 비즈니스맨이 되다\\n제이슨 핸슨\\n2020-06-01\\n15,800원\\n한빛미디어\\n필수 공식으로 하루에 하나씩 정복하는 엑셀 업무 공략집\\n최준선\\n2020-06-01\\n19,000원\\n한빛아카데미\\nIT CookBook, CentOS 리눅스\\n이종원\\n2020-05-30\\n32,000원\\n한빛비즈\\n2020 부동산 세금 사용설명서\\n김성일\\n2020-05-26\\n11,200원\\n한빛비즈\\n내러티브 앤 넘버스\\n애스워드 다모다란\\n2020-05-20\\n18,000원\\n한빛에듀\\n똑똑한 두뇌 연습 : 세계 여행 다른 그림 찾기\\n제니 에스피노사\\n2020-05-15\\n8,000원\\n한빛에듀\\n똑똑한 두뇌 연습 : 점 잇기\\n조 문\\n2020-05-15\\n8,000원\\n한빛비즈\\n포스트 코로나\\n임승규(국제경제) 외 6명\\n2020-05-15\\n18,000원\\n한빛에듀\\n똑똑한 두뇌 연습 100 : 공주, 동물, 색칠 세트\\n발롱 미디어\\n2020-05-15\\n18,000원\\n한빛에듀\\n똑똑한 두뇌 연습 100 : 탈것, 동물, 축구 세트\\n발롱 미디어\\n2020-05-15\\n18,000원\\n한빛미디어\\n만들면서 배우는 워드프레스 (개정2판)\\n박현우\\n2020-05-11\\n26,000원\\n한빛미디어\\n이것이 MySQL이다(개정판)\\n우재남\\n2020-05-10\\n32,000원\\n한빛에듀\\n미로 마스터 LEVEL2. 미스터리 미로\\n마크 워커\\n2020-05-08\\n8,000원\\n한빛에듀\\n미로 마스터 LEVEL3. 크레이지 미로\\n사이먼 워드\\n2020-05-08\\n8,000원\\n한빛미디어\\n회사에서 바로 통하는 파워포인트 FOR STARTERS\\n이화진\\n2020-05-07\\n15,000원\\n한빛미디어\\n핸즈온 머신러닝(2판)\\n오렐리앙 제롱(Aurélien Géron)\\n2020-05-04\\n55,000원\\n한빛미디어\\n배워서 바로 쓰는 스프링 프레임워크\\n애시시 사린 외 1명\\n2020-05-01\\n50,000원\\n한빛미디어\\nBPF로 리눅스 관측 가능성 향상하기\\n데이비드 칼라베라 외 1명\\n2020-05-01\\n22,000원\\n한빛비즈\\n4차 인간\\n이미솔 외 1명\\n2020-04-30\\n16,800원\\n한빛비즈\\n할짝 심리학\\n이한나\\n2020-04-30\\n15,800원\\n한빛미디어\\n이것이 안드로이드다 with 코틀린\\n고돈호\\n2020-04-25\\n34,000원\\n한빛비즈\\n나는 불평을 그만두기로 했다\\n크리스틴 르위키\\n2020-04-20\\n15,000원\\n한빛라이프\\n오늘도 화내고 말았습니다\\n박윤미\\n2020-04-20\\n14,800원\\n한빛미디어\\n배워서 바로 쓰는 스프링 부트 2\\n히로스에 다케시 외 1명\\n2020-04-16\\n28,000원\\n한빛미디어\\n학교에서 알려주지 않는 17가지 실무 개발 기술\\n이기곤\\n2020-04-16\\n20,000원\\n한빛미디어\\n이것이 리눅스다 (개정판) with RedHat CentOS 8\\n우재남\\n2020-04-10\\n32,000원\\n한빛미디어\\n회사에서 바로 통하는 실무 엑셀+파워포인트+워드&한글(개정판)\\n전미진 외 2명\\n2020-04-10\\n22,000원\\n한빛비즈\\n은밀한 설계자들\\n클라이브 톰슨\\n2020-04-06\\n25,000원\\n한빛미디어\\n줄리아를 생각하다\\n벤 로언스 외 1명\\n2020-04-06\\n30,000원\\n한빛비즈\\n타겟티드\\n브리태니 카이저\\n2020-04-06\\n18,000원\\n한빛아카데미\\n누구나 파이썬 통계분석\\n타니아이 히로키\\n2020-04-06\\n26,000원\\n한빛비즈\\n이기적 유인원\\n니컬러스 머니\\n2020-04-03\\n17,000원\\n한빛에듀\\n미로 마스터 LEVEL1. 세계 미로 대탈출\\n앤디 피터스\\n2020-04-03\\n8,000원\\n한빛에듀\\n미로 마스터 LEVEL1. 우주 미로 대탈출\\n앤디 피터스\\n2020-04-03\\n8,000원 1 2 3 4 5 6 7 8 9 10 > 전체 목록 다운로드  회사소개(KOR | ENG) \\x95 약도\\n기획 및 원고 모집\\n이용약관\\n개인정보취급방침\\n사이트맵\\n페이스북\\n트위터\\n유튜브\\n블로그\\n네이버포스트\\n하단 검색영역\\n// 검색 리스트 $(document).ready(function() { $(\\'#foot_keyword_str\\').keyup(function(e) { if (e.keyCode == 13) foot_sch_smit(); }); }); function foot_sch_smit(){ var foot_keyword_str = $(\"#foot_keyword_str\").val(); var searchUrl = \"/search/search_list.html?keyword=\"+foot_keyword_str; if(!foot_keyword_str){ alert(\"검색어를 입력해주세요\"); $(\"#foot_keyword_str\").focus(); }else{ location.href = searchUrl; } }\\n한빛미디어㈜ \\x95 한빛아카데미㈜ \\x95 한빛비즈㈜\\n(03785) 서울 서대문구 연희로2길 62\\nEMAIL : support@hanbit.co.kr\\n대표이사 : 김태헌\\n사업자등록번호 : 220-81-05665 [확인]\\n통신판매업신고 : 2017-서울서대문-0671호\\n호스팅제공자 : (주)누리호스팅 회사소개(KOR | ENG) \\x95 약도\\n기획 및 원고 모집\\n이용약관\\n개인정보취급방침\\n사이트맵 페이스북\\n트위터\\n유튜브\\n블로그\\n네이버포스트\\n하단 검색영역\\n// 검색 리스트 $(document).ready(function() { $(\\'#foot_keyword_str\\').keyup(function(e) { if (e.keyCode == 13) foot_sch_smit(); }); }); function foot_sch_smit(){ var foot_keyword_str = $(\"#foot_keyword_str\").val(); var searchUrl = \"/search/search_list.html?keyword=\"+foot_keyword_str; if(!foot_keyword_str){ alert(\"검색어를 입력해주세요\"); $(\"#foot_keyword_str\").focus(); }else{ location.href = searchUrl; } } 한빛미디어㈜ \\x95 한빛아카데미㈜ \\x95 한빛비즈㈜\\n(03785) 서울 서대문구 연희로2길 62\\nEMAIL : support@hanbit.co.kr\\n대표이사 : 김태헌\\n사업자등록번호 : 220-81-05665 [확인]\\n통신판매업신고 : 2017-서울서대문-0671호\\n호스팅제공자 : (주)누리호스팅 한빛미디어㈜ \\x95 한빛아카데미㈜ \\x95 한빛비즈㈜\\n(03785) 서울 서대문구 연희로2길 62\\nEMAIL : support@hanbit.co.kr\\n대표이사 : 김태헌\\n사업자등록번호 : 220-81-05665 [확인]\\n통신판매업신고 : 2017-서울서대문-0671호\\n호스팅제공자 : (주)누리호스팅 ©1993-2020 Hanbit Publishing Network, Inc. All rights reserved. 자료실'"
      ]
     },
     "execution_count": 44,
     "metadata": {},
     "output_type": "execute_result"
    }
   ],
   "source": [
    "div.text()"
   ]
  },
  {
   "cell_type": "code",
   "execution_count": 45,
   "metadata": {},
   "outputs": [
    {
     "data": {
      "text/plain": [
       "'quick_skip_menu'"
      ]
     },
     "execution_count": 45,
     "metadata": {},
     "output_type": "execute_result"
    }
   ],
   "source": [
    "div.attr('id')"
   ]
  },
  {
   "cell_type": "code",
   "execution_count": 46,
   "metadata": {},
   "outputs": [
    {
     "data": {
      "text/plain": [
       "'quick_skip_menu'"
      ]
     },
     "execution_count": 46,
     "metadata": {},
     "output_type": "execute_result"
    }
   ],
   "source": [
    "div.attr.id"
   ]
  },
  {
   "cell_type": "code",
   "execution_count": 47,
   "metadata": {},
   "outputs": [
    {
     "data": {
      "text/plain": [
       "[<li>, <li>, <li>, <li>, <li>, <li>, <li>, <li>, <li>, <li>, <li>, <li>, <li>, <li>, <li>, <li>, <li>, <li>, <li#top_search.search>, <li>, <li>, <li>, <li>, <li>, <li>, <li>, <li>, <li>, <li>, <li>, <li>, <li>, <li>, <li>, <li>, <li>, <li>, <li>, <li>, <li>, <li>, <li>, <li>, <li>, <li>, <li>, <li>, <li>, <li>, <li>, <li>, <li>, <li>, <li>, <li>, <li>, <li>, <li>, <li>, <li>, <li>, <li>, <li>, <li>, <li>, <li>, <li>, <li.gnb_category_series>, <li.gnb_category_reservations>, <li>, <li>, <li>, <li>, <li>, <li>, <li>, <li>, <li>, <li>, <li.curr>, <li>, <li>, <li>, <li>, <li>, <li>, <li>, <li>, <li>, <li>, <li>, <li>, <li>, <li>, <li.foot_facebook>, <li.foot_twitter>, <li.foot_youtube>, <li.foot_bolg>, <li.foot_naverpost>]"
      ]
     },
     "execution_count": 47,
     "metadata": {},
     "output_type": "execute_result"
    }
   ],
   "source": [
    "d('li')"
   ]
  },
  {
   "cell_type": "code",
   "execution_count": 48,
   "metadata": {},
   "outputs": [
    {
     "data": {
      "text/plain": [
       "[<li.foot_facebook>]"
      ]
     },
     "execution_count": 48,
     "metadata": {},
     "output_type": "execute_result"
    }
   ],
   "source": [
    "d('li.foot_facebook')"
   ]
  },
  {
   "cell_type": "code",
   "execution_count": 49,
   "metadata": {},
   "outputs": [
    {
     "data": {
      "text/plain": [
       "[<li>, <li>, <li>, <li>, <li>, <li>, <li>, <li>, <li>, <li>, <li>, <li>, <li>, <li>, <li>, <li>, <li>, <li>, <li#top_search.search>, <li>, <li>, <li>, <li>, <li>, <li>, <li>, <li>, <li>, <li>, <li>, <li>, <li>, <li>, <li>, <li>, <li>, <li>, <li>, <li>, <li>, <li>, <li>, <li>, <li>, <li>, <li>, <li>, <li>, <li>, <li>, <li>, <li>, <li>, <li>, <li>, <li>, <li>, <li>, <li>, <li>, <li>, <li>, <li>, <li>, <li>, <li>, <li>, <li.gnb_category_series>, <li.gnb_category_reservations>, <li>, <li>, <li>, <li>, <li>, <li>, <li>, <li>, <li>, <li>, <li.curr>, <li>, <li>, <li>, <li>, <li>, <li>, <li>, <li>, <li>, <li>, <li>, <li>, <li>, <li>, <li.foot_facebook>, <li.foot_twitter>, <li.foot_youtube>, <li.foot_bolg>, <li.foot_naverpost>]"
      ]
     },
     "execution_count": 49,
     "metadata": {},
     "output_type": "execute_result"
    }
   ],
   "source": [
    "# jQuery chain\n",
    "d('body').find('li')"
   ]
  },
  {
   "cell_type": "code",
   "execution_count": 51,
   "metadata": {},
   "outputs": [
    {
     "data": {
      "text/plain": [
       "[<li#top_search.search>]"
      ]
     },
     "execution_count": 51,
     "metadata": {},
     "output_type": "execute_result"
    }
   ],
   "source": [
    "d('li').eq(18)"
   ]
  },
  {
   "cell_type": "code",
   "execution_count": null,
   "metadata": {},
   "outputs": [],
   "source": []
  }
 ],
 "metadata": {
  "kernelspec": {
   "display_name": "Python 3",
   "language": "python",
   "name": "python3"
  },
  "language_info": {
   "codemirror_mode": {
    "name": "ipython",
    "version": 3
   },
   "file_extension": ".py",
   "mimetype": "text/x-python",
   "name": "python",
   "nbconvert_exporter": "python",
   "pygments_lexer": "ipython3",
   "version": "3.7.3"
  }
 },
 "nbformat": 4,
 "nbformat_minor": 4
}
