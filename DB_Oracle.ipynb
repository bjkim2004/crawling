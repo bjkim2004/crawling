{
 "cells": [
  {
   "cell_type": "code",
   "execution_count": 6,
   "metadata": {
    "collapsed": true
   },
   "outputs": [],
   "source": [
    "import cx_Oracle\n",
    "import pandas as pd\n",
    "import os"
   ]
  },
  {
   "cell_type": "code",
   "execution_count": 7,
   "metadata": {
    "collapsed": true
   },
   "outputs": [],
   "source": [
    "user = 'USER'\n",
    "pwd = '패스워드'\n",
    "server = 'DB서버'\n",
    "port = '포트'\n",
    "sid = 'SID'"
   ]
  },
  {
   "cell_type": "code",
   "execution_count": 8,
   "metadata": {
    "collapsed": true
   },
   "outputs": [],
   "source": [
    "with cx_Oracle.connect('{}/{}@{}:{}/{}'.format(user, pwd, server, port, sid)) as con:\n",
    "    try:\n",
    "        고객정보.to_sql(name = 'CUST_INFO', con = con, index = False, if_exists='fail') \n",
    "        #if_exists : {'fail', 'replace', 'append'} fefault : fail\n",
    "    except Exception as e:\n",
    "        print(str(e))\n",
    "    \n",
    "    query = 'SELECT * FROM CUST_INFO'\n",
    "    데이터프레임1 = pd.read_sql(query, con = con)\n",
    "    \n",
    "    query = 'SELECT * FROM CUST_INFO where 고객번호 = \"C001\"'\n",
    "    데이터프레임2 = pd.read_sql(query, con = con)"
   ]
  },
  {
   "cell_type": "code",
   "execution_count": null,
   "metadata": {
    "collapsed": true
   },
   "outputs": [],
   "source": [
    "데이터프레임1"
   ]
  },
  {
   "cell_type": "code",
   "execution_count": null,
   "metadata": {
    "collapsed": true
   },
   "outputs": [],
   "source": [
    "데이터프레임2"
   ]
  }
 ],
 "metadata": {
  "kernelspec": {
   "display_name": "Python 3",
   "language": "python",
   "name": "python3"
  },
  "language_info": {
   "codemirror_mode": {
    "name": "ipython",
    "version": 3
   },
   "file_extension": ".py",
   "mimetype": "text/x-python",
   "name": "python",
   "nbconvert_exporter": "python",
   "pygments_lexer": "ipython3",
   "version": "3.6.1"
  }
 },
 "nbformat": 4,
 "nbformat_minor": 2
}
