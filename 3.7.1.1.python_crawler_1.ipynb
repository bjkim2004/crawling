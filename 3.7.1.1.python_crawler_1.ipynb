{
 "cells": [
  {
   "cell_type": "code",
   "execution_count": 68,
   "metadata": {},
   "outputs": [],
   "source": [
    "import requests\n",
    "import lxml.html"
   ]
  },
  {
   "cell_type": "code",
   "execution_count": 69,
   "metadata": {},
   "outputs": [
    {
     "name": "stdout",
     "output_type": "stream",
     "text": [
      "/store/books/look.php?p_code=B7748014142\n",
      "javascript:;\n",
      "/store/books/look.php?p_code=B7748014142\n",
      "/store/books/look.php?p_code=B3745711486\n",
      "javascript:;\n",
      "/store/books/look.php?p_code=B3745711486\n",
      "/store/books/look.php?p_code=B7026921929\n",
      "javascript:;\n",
      "/store/books/look.php?p_code=B7026921929\n",
      "/store/books/look.php?p_code=B7346049104\n",
      "javascript:;\n",
      "/store/books/look.php?p_code=B7346049104\n",
      "/store/books/look.php?p_code=B9609283195\n",
      "javascript:;\n",
      "/store/books/look.php?p_code=B9609283195\n",
      "/store/books/look.php?p_code=B3126325886\n",
      "javascript:;\n",
      "/store/books/look.php?p_code=B3126325886\n",
      "/store/books/look.php?p_code=B7859887743\n",
      "javascript:;\n",
      "/store/books/look.php?p_code=B7859887743\n",
      "/store/books/look.php?p_code=B3715221949\n",
      "javascript:;\n",
      "/store/books/look.php?p_code=B3715221949\n",
      "/store/books/look.php?p_code=B3055805288\n",
      "javascript:;\n",
      "/store/books/look.php?p_code=B3055805288\n",
      "/store/books/look.php?p_code=B3354514449\n",
      "javascript:;\n",
      "/store/books/look.php?p_code=B3354514449\n",
      "/store/books/look.php?p_code=B1789503265\n",
      "javascript:;\n",
      "/store/books/look.php?p_code=B1789503265\n",
      "/store/books/look.php?p_code=B1047711884\n",
      "javascript:;\n",
      "/store/books/look.php?p_code=B1047711884\n",
      "/store/books/look.php?p_code=B4872546419\n",
      "javascript:;\n",
      "/store/books/look.php?p_code=B4872546419\n",
      "/store/books/look.php?p_code=B1710834745\n",
      "javascript:;\n",
      "/store/books/look.php?p_code=B1710834745\n",
      "/store/books/look.php?p_code=B9632716381\n",
      "javascript:;\n",
      "/store/books/look.php?p_code=B9632716381\n",
      "/store/books/look.php?p_code=B8151169674\n",
      "javascript:;\n",
      "/store/books/look.php?p_code=B8151169674\n",
      "/store/books/look.php?p_code=B7283790591\n",
      "javascript:;\n",
      "/store/books/look.php?p_code=B7283790591\n",
      "/store/books/look.php?p_code=B3669653041\n",
      "javascript:;\n",
      "/store/books/look.php?p_code=B3669653041\n",
      "/store/books/look.php?p_code=B8200129293\n",
      "javascript:;\n",
      "/store/books/look.php?p_code=B8200129293\n",
      "/store/books/look.php?p_code=B8912615747\n",
      "javascript:;\n",
      "/store/books/look.php?p_code=B8912615747\n"
     ]
    }
   ],
   "source": [
    "response = requests.get('http://www.hanbit.co.kr/store/books/new_book_list.html')\n",
    "root = lxml.html.fromstring(response.content)\n",
    "for a in root.cssselect('.view_box a'):\n",
    "    url = a.get('href')\n",
    "    print(url)"
   ]
  },
  {
   "cell_type": "code",
   "execution_count": null,
   "metadata": {},
   "outputs": [],
   "source": []
  }
 ],
 "metadata": {
  "kernelspec": {
   "display_name": "Python 3",
   "language": "python",
   "name": "python3"
  },
  "language_info": {
   "codemirror_mode": {
    "name": "ipython",
    "version": 3
   },
   "file_extension": ".py",
   "mimetype": "text/x-python",
   "name": "python",
   "nbconvert_exporter": "python",
   "pygments_lexer": "ipython3",
   "version": "3.7.3"
  }
 },
 "nbformat": 4,
 "nbformat_minor": 4
}
