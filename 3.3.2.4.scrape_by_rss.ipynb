{
 "cells": [
  {
   "cell_type": "code",
   "execution_count": 52,
   "metadata": {},
   "outputs": [
    {
     "name": "stdout",
     "output_type": "stream",
     "text": [
      "Collecting feedparser\n",
      "  Downloading https://files.pythonhosted.org/packages/91/d8/7d37fec71ff7c9dbcdd80d2b48bcdd86d6af502156fc93846fb0102cb2c4/feedparser-5.2.1.tar.bz2 (192kB)\n",
      "Building wheels for collected packages: feedparser\n",
      "  Building wheel for feedparser (setup.py): started\n",
      "  Building wheel for feedparser (setup.py): finished with status 'done'\n",
      "  Stored in directory: C:\\Users\\bjkim\\AppData\\Local\\pip\\Cache\\wheels\\8c\\69\\b7\\f52763c41c5471df57703a0ef718a32a5e81ee35dcf6d4f97f\n",
      "Successfully built feedparser\n",
      "Installing collected packages: feedparser\n",
      "Successfully installed feedparser-5.2.1\n"
     ]
    }
   ],
   "source": [
    "# !pip install feedparser"
   ]
  },
  {
   "cell_type": "code",
   "execution_count": 53,
   "metadata": {},
   "outputs": [],
   "source": [
    "import feedparser"
   ]
  },
  {
   "cell_type": "code",
   "execution_count": 54,
   "metadata": {},
   "outputs": [],
   "source": [
    "# 알라딘 도서 RSS \n",
    "d = feedparser.parse('http://www.aladin.co.kr/rss/special_new/351')"
   ]
  },
  {
   "cell_type": "code",
   "execution_count": 56,
   "metadata": {},
   "outputs": [
    {
     "data": {
      "text/plain": [
       "'분야별 신간 특선 - 컴퓨터/모바일'"
      ]
     },
     "execution_count": 56,
     "metadata": {},
     "output_type": "execute_result"
    }
   ],
   "source": [
    "d.feed.title "
   ]
  },
  {
   "cell_type": "code",
   "execution_count": 57,
   "metadata": {},
   "outputs": [
    {
     "data": {
      "text/plain": [
       "'http://www.aladin.co.kr/rsscenter/go.aspx/www.aladin.co.kr/shop/book/wspecialnew.aspx?cid=351&rssType=1&type=title'"
      ]
     },
     "execution_count": 57,
     "metadata": {},
     "output_type": "execute_result"
    }
   ],
   "source": [
    "d.feed.link"
   ]
  },
  {
   "cell_type": "code",
   "execution_count": 58,
   "metadata": {},
   "outputs": [
    {
     "data": {
      "text/plain": [
       "'분야별 신간 특선'"
      ]
     },
     "execution_count": 58,
     "metadata": {},
     "output_type": "execute_result"
    }
   ],
   "source": [
    "d.feed.description"
   ]
  },
  {
   "cell_type": "code",
   "execution_count": 59,
   "metadata": {},
   "outputs": [
    {
     "data": {
      "text/plain": [
       "25"
      ]
     },
     "execution_count": 59,
     "metadata": {},
     "output_type": "execute_result"
    }
   ],
   "source": [
    "len(d.entries) "
   ]
  },
  {
   "cell_type": "code",
   "execution_count": 61,
   "metadata": {},
   "outputs": [
    {
     "data": {
      "text/plain": [
       "'Creo Parametric 6.0 Step 02/추병호.추병순.디지테크(기술지원팀) 지음/구민사'"
      ]
     },
     "execution_count": 61,
     "metadata": {},
     "output_type": "execute_result"
    }
   ],
   "source": [
    "d.entries[0].title "
   ]
  },
  {
   "cell_type": "code",
   "execution_count": 62,
   "metadata": {},
   "outputs": [
    {
     "data": {
      "text/plain": [
       "'http://www.aladin.co.kr/rsscenter/go.aspx?rssType=1&type=item&itemId=242512497'"
      ]
     },
     "execution_count": 62,
     "metadata": {},
     "output_type": "execute_result"
    }
   ],
   "source": [
    "d.entries[0].link "
   ]
  },
  {
   "cell_type": "code",
   "execution_count": 63,
   "metadata": {},
   "outputs": [
    {
     "data": {
      "text/plain": [
       "'<br/><table border=\\'0\\' cellpadding=\\'0\\' cellspacing=\\'0\\'><tr><td align=\\'left\\' valign=\\'top\\'><table cellspacing=\\'1\\' cellpadding=\\'5\\' border=\\'0\\' bgcolor=\\'#dddddd\\' style=\\'margin-right:10px;\\'><tbody><tr><td bgcolor=\\'#ffffff\\'><a href=\\'http://www.aladin.co.kr/rsscenter/go.aspx?rssType=1&type=item&itemId=242512497\\'><img src=\\'https://image.aladin.co.kr/product/24251/24/cover/k602630361_1.jpg\\' border=\\'0\\' /></a></td></tr></tbody></table><h2><a href=\\'http://www.aladin.co.kr/rsscenter/go.aspx?rssType=1&type=item&itemId=242512497\\'>Creo Parametric 6.0 Step 02</a></h2>추병호.추병순.디지테크(기술지원팀) 지음 / 구민사 / 2020년 06월 / ISBN:<span class=\\'isbn13\\'>9791158138462</span><br/>정가: <span style=\\'color:#FF0202\\'>30,000</span>원 / 판매가: <span style=\\'color:#FF0202\\'>30,000</span>원 / 마일리지: <span style=\\'color:#FF0202\\'>137</span>원<br/><span style=\\'color:#FF0202\\'>이벤트</span>: 수험서.외국어.컴퓨터.대학교재 - 본투리드 핸디 선풍기/스트랩 메쉬 파우치/분철 라벨스틱<br/><table border=\\'0\\' cellpadding=\\'3\\' cellspacing=\\'0\\' height=\\'20\\'><tr><td width=\\'113\\' align=\\'left\\'><a href=\\'http://www.aladin.co.kr/rsscenter/go.aspx?type=basket&itemId=242512497&rssType=1\\' target=\\'_blank\\'><img src=\\'http://www.aladin.co.kr/img/rss/bu_basket.gif\\' border=\\'0\\' alt=\\'장바구니담기\\'/></a></td><td width=\\'101\\' align=\\'left\\'><a href=\\'http://www.aladin.co.kr/rsscenter/go.aspx?type=safebasket&itemId=242512497&rssType=1\\' target=\\'_blank\\'><img src=\\'http://www.aladin.co.kr/img/rss/bu_safebasket.gif\\' border=\\'0\\' alt=\\'보관함담기\\'/></a></td><td width=\\'83\\' align=\\'left\\'></td><td width=\\'113\\' align=\\'left\\'></td></tr></table></td></tr><tr><td valign=\\'top\\' align=\\'left\\'><img src=\"http://www.aladin.co.kr/img/book/intro_t.gif\" border=\"0\" /><br/>CREO 초보자가 학습 내용을 쉽게 따라하고 이해할 수 있도록 모든 과정에 예제를 구성하였기에 &lt;CREO 6.0 PARAMETRIC&gt;을 통해 교재 내용을 충실하게 숙지하면 사용자들이 본인의 아이디어를 CREO로 자유롭게 표현하게 될 것이다.<br/><br/><img src=\"http://www.aladin.co.kr/img/book/content_t.gif\" border=\"0\" /><br/><p><B>I. 어셈블리 과정</B><BR>\\n<BR>\\nPART 1 어셈블리 시작<BR>\\nSection 1-1 시작하기 <BR>\\nSection 1-2 컴포넌트 선택 <BR>\\nSection 1-3 컴포넌트 보기 <BR>\\nSection 1-4 컴포넌트 수정<BR>\\n<BR>\\nPART 2  컴포넌트 조립<BR>\\nSection 2-1 조립 시작<BR>\\nSection 2-2 구속 조립<BR>\\nSection 2-3 연결 조립<BR>\\nSection 2-4 파스너 조립 <BR>\\n<BR>\\nPART 3  어셈블리 활용<BR>\\nSection 3-1 유용한 기능<BR>\\nSection 3-2 보기 관리자 <BR>\\nSection 3-3 어셈블리 분석 <BR>\\n<BR>\\nPART 4 어셈블리 연습<BR>\\nSection 4-1 구속 조립 연습 <BR>\\nSection 4-2 연결 조립 연습<BR>\\n<BR>\\n<B>Ⅱ. 드로잉 과정</B><BR>\\n<BR>\\nPART 1 드로잉 시작<BR>\\nSection 1-1 인터페이스 <BR>\\nSection 1-2 드로잉 생성<BR>\\n<BR>\\nPART 2 드로잉 보기<BR>\\nSection 2-1 보기 생성 <BR>\\nSection 2-2 가시 영역 <BR>\\nSection 2-3 보기 단면 <BR>\\nSection 2-4 보기 편집 <BR>\\nSection 2-5 어셈블리 보기 <BR>\\n<BR>\\nPART 3 세부 항목<BR>\\nSection 3-1 치수 생성<BR>\\nSection 3-2 치수 편집 <BR>\\nSection 3-3 메모 <BR>\\nSection 3-4 공차<BR>\\nSection 3-5 기호<BR>\\n<BR>\\nPART 4 테이블 및 검토 <BR>\\nSection 4-1 테이블 <BR>\\nSection 4-2 검토 및 게시<BR>\\n<BR>\\nPART 5 도면 연습 <BR>\\nSection 5-1 부품 도면 연습 <BR>\\nSection 5-2 어셈블리 도면 연습 <BR>\\n<BR>\\n<B>Ⅲ. 서피스 과정</B><BR>\\n<BR>\\nPART 1 커브<BR>\\nSection 1-1 커브 생성 <BR>\\nSection 1-2 편집 커브 <BR>\\n<BR>\\nPART 2 서피스 생성 <BR>\\nSection 2-1 기본 서피스 <BR>\\nSection 2-2 경계 블렌드 <BR>\\n<BR>\\nPART 3 서피스 편집<BR>\\nSection 3-1 서피스 확장<BR>\\nSection 3-2 서피스 트림 <BR>\\nSection 3-3 서피스 복사 <BR>\\nSection 3-4 서피스 오프셋 <BR>\\nSection 3-5 서피스 병합 <BR>\\nSection 3-6 서피스 솔리드화 <BR>\\n<BR>\\nPART 4 서피스 분석<BR>\\nSection 4-1 곡률 분석 <BR>\\nSection 4-2 기타 분석 <BR>\\n<BR>\\nPART 5 서피스 연습</p><br/><br/><img src=\"http://www.aladin.co.kr/img/book/subject_t.gif\" border=\"0\" /><br/><a href=\\'http://www.aladin.co.kr/home/wbookmain.aspx\\' class=\\'ml\\'>국내도서</a>&nbsp;>&nbsp;<a href=\\'http://www.aladin.co.kr/shop/wbrowse.aspx?CID=351\\' class=\\'ml\\'>컴퓨터/모바일</a>&nbsp;>&nbsp;<a href=\\'http://www.aladin.co.kr/shop/wbrowse.aspx?CID=2630\\' class=\\'ml\\'>그래픽/멀티미디어</a>&nbsp;>&nbsp;<a href=\\'http://www.aladin.co.kr/shop/wbrowse.aspx?CID=2648&BrowseTarget=List\\' class=\\'ml\\'><b>CAD</b></a><br/><a href=\\'http://www.aladin.co.kr/home/wbookmain.aspx\\' class=\\'ml\\'>국내도서</a>&nbsp;>&nbsp;<a href=\\'http://www.aladin.co.kr/shop/wbrowse.aspx?CID=8257\\' class=\\'ml\\'>대학교재/전문서적</a>&nbsp;>&nbsp;<a href=\\'http://www.aladin.co.kr/shop/wbrowse.aspx?CID=8262\\' class=\\'ml\\'>공학계열</a>&nbsp;>&nbsp;<a href=\\'http://www.aladin.co.kr/shop/wbrowse.aspx?CID=8467\\' class=\\'ml\\'>컴퓨터공학</a>&nbsp;>&nbsp;<a href=\\'http://www.aladin.co.kr/shop/wbrowse.aspx?CID=32812&BrowseTarget=List\\' class=\\'ml\\'><b>그래픽/멀티미디어</b></a><br/><br/></td></tr></table>'"
      ]
     },
     "execution_count": 63,
     "metadata": {},
     "output_type": "execute_result"
    }
   ],
   "source": [
    "d.entries[0].description"
   ]
  },
  {
   "cell_type": "code",
   "execution_count": 55,
   "metadata": {},
   "outputs": [
    {
     "name": "stdout",
     "output_type": "stream",
     "text": [
      "이름: Creo Parametric 6.0 Step 02/추병호.추병순.디지테크(기술지원팀) 지음/구민사\n",
      "타이틀: Creo Parametric 6.0 Step 02/추병호.추병순.디지테크(기술지원팀) 지음/구민사\n",
      "\n",
      "이름: Qt Quick 프로그래밍/김대진 지음/인큐빅미디어\n",
      "타이틀: Qt Quick 프로그래밍/김대진 지음/인큐빅미디어\n",
      "\n",
      "이름: 넷플릭스의 클라우드 엔지니어링/정윤진 지음/예문사\n",
      "타이틀: 넷플릭스의 클라우드 엔지니어링/정윤진 지음/예문사\n",
      "\n",
      "이름: 파이썬 네트워크 프로그래밍/서열규.전희성 지음/복두출판사\n",
      "타이틀: 파이썬 네트워크 프로그래밍/서열규.전희성 지음/복두출판사\n",
      "\n",
      "이름: 네트워킹 실습 시나리오 II/밥 리 지음/부크크(bookk)\n",
      "타이틀: 네트워킹 실습 시나리오 II/밥 리 지음/부크크(bookk)\n",
      "\n",
      "이름: 네트워킹 실습 시나리오 I/밥 리 지음/부크크(bookk)\n",
      "타이틀: 네트워킹 실습 시나리오 I/밥 리 지음/부크크(bookk)\n",
      "\n",
      "이름: 2021 정쌤의 3D프린터운용기능사 실기/정종현.이태곤 지음/북스케치\n",
      "타이틀: 2021 정쌤의 3D프린터운용기능사 실기/정종현.이태곤 지음/북스케치\n",
      "\n",
      "이름: 딱 하루에 끝내는 파이썬 핵심기초/The Coding College Instructors 지음/부크크(bookk)\n",
      "타이틀: 딱 하루에 끝내는 파이썬 핵심기초/The Coding College Instructors 지음/부크크(bookk)\n",
      "\n",
      "이름: 新 2020 Win-Q(윙크) 3D프린터운용기능사 필기 단기완성/김철희 지음/시대고시기획\n",
      "타이틀: 新 2020 Win-Q(윙크) 3D프린터운용기능사 필기 단기완성/김철희 지음/시대고시기획\n",
      "\n",
      "이름: 2021 3D프린터 운용기능사 필기.실기/임충식 지음/구민사\n",
      "타이틀: 2021 3D프린터 운용기능사 필기.실기/임충식 지음/구민사\n",
      "\n",
      "이름: 뉴럴 모델을 이용한 자연어 처리/이상근 지음/메이킹북스\n",
      "타이틀: 뉴럴 모델을 이용한 자연어 처리/이상근 지음/메이킹북스\n",
      "\n",
      "이름: 건축적 인공지능/이진모 지음/부크크(bookk)\n",
      "타이틀: 건축적 인공지능/이진모 지음/부크크(bookk)\n",
      "\n",
      "이름: [POD] 구글, 1주일만 하면  구글 이노베이터만큼 할 수 있다./박정철.정택규 지음/부크크(bookk)\n",
      "타이틀: [POD] 구글, 1주일만 하면  구글 이노베이터만큼 할 수 있다./박정철.정택규 지음/부크크(bookk)\n",
      "\n",
      "이름: 핵심포인트로 잡아내는 전자상거래 관리사/(사)한국소프트웨어기술인협회 전자상거래연구소 지음/광문각\n",
      "타이틀: 핵심포인트로 잡아내는 전자상거래 관리사/(사)한국소프트웨어기술인협회 전자상거래연구소 지음/광문각\n",
      "\n",
      "이름: [POD] 쉽게 따라하는 아두이노 기초/하수호.신영근 지음/부크크(bookk)\n",
      "타이틀: [POD] 쉽게 따라하는 아두이노 기초/하수호.신영근 지음/부크크(bookk)\n",
      "\n",
      "이름: [POD] 인벤터 50시간 완성 《모델링편》/신동진.김경미.진용섭 지음/부크크(bookk)\n",
      "타이틀: [POD] 인벤터 50시간 완성 《모델링편》/신동진.김경미.진용섭 지음/부크크(bookk)\n",
      "\n",
      "이름: [POD] 이 책 한 권이면, 여러분도 멋진 영상콘텐츠를 만들어 유튜브로 돈을 벌 수도 있고, 인스타그램에서 인기 인플루언서가 될 수도 있습니다. 레알/이동윤(윤들쥔장) 지음/윤들닷컴\n",
      "타이틀: [POD] 이 책 한 권이면, 여러분도 멋진 영상콘텐츠를 만들어 유튜브로 돈을 벌 수도 있고, 인스타그램에서 인기 인플루언서가 될 수도 있습니다. 레알/이동윤(윤들쥔장) 지음/윤들닷컴\n",
      "\n",
      "이름: [POD] 코딩으로 그림그리기/이종원.김혜란 지음/부크크(bookk)\n",
      "타이틀: [POD] 코딩으로 그림그리기/이종원.김혜란 지음/부크크(bookk)\n",
      "\n",
      "이름: 소프트웨어공학 & 시스템 분석 설계/원달수 지음/글로벌\n",
      "타이틀: 소프트웨어공학 & 시스템 분석 설계/원달수 지음/글로벌\n",
      "\n",
      "이름: 오토캐드 2020/조성근.김정원 지음/성안당\n",
      "타이틀: 오토캐드 2020/조성근.김정원 지음/성안당\n",
      "\n",
      "이름: 2018 MAYA Advance (Ver. 이상)/조한경 지음/예문사\n",
      "타이틀: 2018 MAYA Advance (Ver. 이상)/조한경 지음/예문사\n",
      "\n",
      "이름: 기초통신 실험실습/CNDI 기술연구서 지음/사이버북스\n",
      "타이틀: 기초통신 실험실습/CNDI 기술연구서 지음/사이버북스\n",
      "\n",
      "이름: Web App Programming Expert 1/공은채.최민지.장영현 지음/영민\n",
      "타이틀: Web App Programming Expert 1/공은채.최민지.장영현 지음/영민\n",
      "\n",
      "이름: 컴퓨터적 사고와 이해/고윤정 지음/영민\n",
      "타이틀: 컴퓨터적 사고와 이해/고윤정 지음/영민\n",
      "\n",
      "이름: 오토캐드 2020/장월상 외 저자/건기원\n",
      "타이틀: 오토캐드 2020/장월상 외 저자/건기원\n",
      "\n"
     ]
    }
   ],
   "source": [
    "for entry in d.entries:\n",
    "    print('이름:', entry.title)\n",
    "    print('타이틀:', entry.title)\n",
    "    print()"
   ]
  },
  {
   "cell_type": "code",
   "execution_count": 64,
   "metadata": {},
   "outputs": [],
   "source": [
    "from urllib.parse import urljoin"
   ]
  },
  {
   "cell_type": "code",
   "execution_count": 65,
   "metadata": {},
   "outputs": [],
   "source": [
    "base_url = 'http://example.com/books/top.html'"
   ]
  },
  {
   "cell_type": "code",
   "execution_count": 66,
   "metadata": {},
   "outputs": [
    {
     "data": {
      "text/plain": [
       "'http://cdn.example.com/logo.png'"
      ]
     },
     "execution_count": 66,
     "metadata": {},
     "output_type": "execute_result"
    }
   ],
   "source": [
    "urljoin(base_url, '//cdn.example.com/logo.png') "
   ]
  },
  {
   "cell_type": "code",
   "execution_count": 67,
   "metadata": {},
   "outputs": [
    {
     "data": {
      "text/plain": [
       "'http://example.com/articles/'"
      ]
     },
     "execution_count": 67,
     "metadata": {},
     "output_type": "execute_result"
    }
   ],
   "source": [
    "urljoin(base_url, '/articles/')"
   ]
  },
  {
   "cell_type": "code",
   "execution_count": null,
   "metadata": {},
   "outputs": [],
   "source": []
  }
 ],
 "metadata": {
  "kernelspec": {
   "display_name": "Python 3",
   "language": "python",
   "name": "python3"
  },
  "language_info": {
   "codemirror_mode": {
    "name": "ipython",
    "version": 3
   },
   "file_extension": ".py",
   "mimetype": "text/x-python",
   "name": "python",
   "nbconvert_exporter": "python",
   "pygments_lexer": "ipython3",
   "version": "3.7.3"
  }
 },
 "nbformat": 4,
 "nbformat_minor": 4
}
