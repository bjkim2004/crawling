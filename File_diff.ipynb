{
 "cells": [
  {
   "cell_type": "code",
   "execution_count": 12,
   "metadata": {
    "collapsed": true
   },
   "outputs": [],
   "source": [
    "import difflib\n",
    "import sys\n",
    "import os\n",
    "import filecmp"
   ]
  },
  {
   "cell_type": "code",
   "execution_count": 13,
   "metadata": {
    "collapsed": true
   },
   "outputs": [],
   "source": [
    "path = r'G:\\sync\\Project\\Python\\woorifis'\n",
    "fromfile = os.path.join(path, 'data', 'olivier.txt')\n",
    "tofile = os.path.join(path, 'data','olivier2.txt')"
   ]
  },
  {
   "cell_type": "code",
   "execution_count": 14,
   "metadata": {},
   "outputs": [
    {
     "data": {
      "text/plain": [
       "False"
      ]
     },
     "execution_count": 14,
     "metadata": {},
     "output_type": "execute_result"
    }
   ],
   "source": [
    "filecmp.cmp(fromfile, tofile)"
   ]
  },
  {
   "cell_type": "code",
   "execution_count": 15,
   "metadata": {
    "collapsed": true
   },
   "outputs": [],
   "source": [
    "fromlines = []\n",
    "tolines = []\n",
    "with open(fromfile) as fr, open(tofile) as fr2:\n",
    "    fromlines = fr.readlines()\n",
    "    tolines = fr2.readlines()"
   ]
  },
  {
   "cell_type": "code",
   "execution_count": 16,
   "metadata": {
    "collapsed": true
   },
   "outputs": [],
   "source": [
    "diff = difflib.context_diff(fromlines, tolines, fromfile = fromfile, tofile=tofile, n=2) #default : n = 3"
   ]
  },
  {
   "cell_type": "code",
   "execution_count": 17,
   "metadata": {},
   "outputs": [
    {
     "name": "stdout",
     "output_type": "stream",
     "text": [
      "<generator object context_diff at 0x000001D535767570>\n"
     ]
    }
   ],
   "source": [
    "print(diff)"
   ]
  },
  {
   "cell_type": "code",
   "execution_count": 18,
   "metadata": {
    "collapsed": true
   },
   "outputs": [
    {
     "name": "stdout",
     "output_type": "stream",
     "text": [
      "*** G:\\sync\\Project\\Python\\woorifis\\data\\olivier.txt\n",
      "--- G:\\sync\\Project\\Python\\woorifis\\data\\olivier2.txt\n",
      "***************\n",
      "*** 6,10 ****\n",
      "  scipy.sparse.csr_matrix) and extract the first 100 components or so.\n",
      "  This can be the base of baseline recommender system as explained in\n",
      "! this blog post http://www.igvita.com/2007/01/15/svd-recommendation-system-in-ruby/\n",
      "  \n",
      "  Also maybe scipy's arpack might be able to compute the SVD of such a\n",
      "--- 6,10 ----\n",
      "  scipy.sparse.csr_matrix) and extract the first 100 components or so.\n",
      "  This can be the base of baseline recommender system as explained in\n",
      "! this blog post http://www.igvita.com/2017/01/15/svd-recommendation-system-in-ruby/\n",
      "  \n",
      "  Also maybe scipy's arpack might be able to compute the SVD of such a\n",
      "***************\n",
      "*** 14,15 ****\n",
      "--- 14,17 ----\n",
      "  . It has utilities for loading the movielens data and implements some\n",
      "  common recommender systems strategies.\n",
      "+ \n",
      "+ add new line"
     ]
    }
   ],
   "source": [
    "sys.stdout.writelines(diff)"
   ]
  },
  {
   "cell_type": "code",
   "execution_count": 19,
   "metadata": {
    "collapsed": true
   },
   "outputs": [],
   "source": [
    "# sys.stdout.writelines 주석처리 후 재실행\n",
    "with open(os.path.join(path, 'olivier_diff.txt'), 'w') as fw:\n",
    "    fw.writelines(diff)"
   ]
  },
  {
   "cell_type": "code",
   "execution_count": null,
   "metadata": {
    "collapsed": true
   },
   "outputs": [],
   "source": []
  }
 ],
 "metadata": {
  "kernelspec": {
   "display_name": "Python 3",
   "language": "python",
   "name": "python3"
  },
  "language_info": {
   "codemirror_mode": {
    "name": "ipython",
    "version": 3
   },
   "file_extension": ".py",
   "mimetype": "text/x-python",
   "name": "python",
   "nbconvert_exporter": "python",
   "pygments_lexer": "ipython3",
   "version": "3.6.1"
  }
 },
 "nbformat": 4,
 "nbformat_minor": 2
}
