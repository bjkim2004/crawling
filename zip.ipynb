{
 "cells": [
  {
   "cell_type": "code",
   "execution_count": 13,
   "metadata": {
    "collapsed": true
   },
   "outputs": [],
   "source": [
    "import os\n",
    "import zipfile\n",
    "from datetime import datetime"
   ]
  },
  {
   "cell_type": "code",
   "execution_count": 14,
   "metadata": {
    "collapsed": true
   },
   "outputs": [],
   "source": [
    "today = datetime.now().strftime('%Y%m%d')\n",
    "src_path = r'G:\\sync\\Project\\Python\\woorifis'\n",
    "dest_file = r'G:\\sync\\Project\\Python\\woorifis\\py_notebook_bak_{}.zip'.format(today)"
   ]
  },
  {
   "cell_type": "code",
   "execution_count": 15,
   "metadata": {
    "collapsed": true
   },
   "outputs": [],
   "source": [
    "ext = '.ipynb'\n",
    "expt_dirs = ['__pycache__', '.ipynb_checkpoints']"
   ]
  },
  {
   "cell_type": "code",
   "execution_count": 16,
   "metadata": {
    "collapsed": true
   },
   "outputs": [],
   "source": [
    "def zip(src_path, dest_file):\n",
    "    with zipfile.ZipFile(dest_file, 'w') as zf:\n",
    "        for (path, dirs, files) in os.walk(src_path):\n",
    "            dirs[:] = [dir for dir in dirs if dir not in expt_dirs]\n",
    "            for file in files:                \n",
    "                if os.path.splitext(file)[1].lower() == ext:\n",
    "                    fullpath = os.path.join(path, file)\n",
    "                    relpath = os.path.relpath(fullpath, src_path)\n",
    "                    zf.write(fullpath, relpath, zipfile.ZIP_DEFLATED)"
   ]
  },
  {
   "cell_type": "code",
   "execution_count": 17,
   "metadata": {},
   "outputs": [],
   "source": [
    "zip(src_path, dest_file)"
   ]
  },
  {
   "cell_type": "code",
   "execution_count": null,
   "metadata": {
    "collapsed": true
   },
   "outputs": [],
   "source": []
  }
 ],
 "metadata": {
  "kernelspec": {
   "display_name": "Python 3",
   "language": "python",
   "name": "python3"
  },
  "language_info": {
   "codemirror_mode": {
    "name": "ipython",
    "version": 3
   },
   "file_extension": ".py",
   "mimetype": "text/x-python",
   "name": "python",
   "nbconvert_exporter": "python",
   "pygments_lexer": "ipython3",
   "version": "3.6.1"
  }
 },
 "nbformat": 4,
 "nbformat_minor": 2
}
