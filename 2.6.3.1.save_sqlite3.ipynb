{
 "cells": [
  {
   "cell_type": "code",
   "execution_count": 25,
   "metadata": {},
   "outputs": [],
   "source": [
    "import sqlite3"
   ]
  },
  {
   "cell_type": "code",
   "execution_count": 26,
   "metadata": {},
   "outputs": [],
   "source": [
    "# top_cities.db 파일을 열고 연결을 변수에 저장\n",
    "conn = sqlite3.connect('top_cities.db')"
   ]
  },
  {
   "cell_type": "code",
   "execution_count": 27,
   "metadata": {},
   "outputs": [],
   "source": [
    "# 커서를 추출ㄴ\n",
    "c = conn.cursor()"
   ]
  },
  {
   "cell_type": "code",
   "execution_count": 28,
   "metadata": {},
   "outputs": [
    {
     "data": {
      "text/plain": [
       "<sqlite3.Cursor at 0x194cc5d3260>"
      ]
     },
     "execution_count": 28,
     "metadata": {},
     "output_type": "execute_result"
    }
   ],
   "source": [
    "# execute() 메서드로 SQL 구문을 실행\n",
    "# 스크립트를 여러 번 사용해도 같은 결과를 출력할 수 있게 cities 테이블이 존재하는 경우 제거\n",
    "c.execute('DROP TABLE IF EXISTS cities')"
   ]
  },
  {
   "cell_type": "code",
   "execution_count": 29,
   "metadata": {},
   "outputs": [
    {
     "data": {
      "text/plain": [
       "<sqlite3.Cursor at 0x194cc5d3260>"
      ]
     },
     "execution_count": 29,
     "metadata": {},
     "output_type": "execute_result"
    }
   ],
   "source": [
    "# cities 테이블을 생성\n",
    "c.execute('''\n",
    "    CREATE TABLE cities (\n",
    "        rank integer,\n",
    "        city text,\n",
    "        population integer\n",
    "    )\n",
    "''')"
   ]
  },
  {
   "cell_type": "code",
   "execution_count": 30,
   "metadata": {},
   "outputs": [
    {
     "data": {
      "text/plain": [
       "<sqlite3.Cursor at 0x194cc5d3260>"
      ]
     },
     "execution_count": 30,
     "metadata": {},
     "output_type": "execute_result"
    }
   ],
   "source": [
    "# execute() 메서드의 두 번째 매개변수에는 파라미터를 지정\n",
    "# SQL 내부에서 파라미터로 변경할 부분(플레이스홀더)은 ?로 지정\n",
    "c.execute('INSERT INTO cities VALUES (?, ?, ?)', (1, '상하이', 24150000))"
   ]
  },
  {
   "cell_type": "code",
   "execution_count": 31,
   "metadata": {},
   "outputs": [
    {
     "data": {
      "text/plain": [
       "<sqlite3.Cursor at 0x194cc5d3260>"
      ]
     },
     "execution_count": 31,
     "metadata": {},
     "output_type": "execute_result"
    }
   ],
   "source": [
    "# 파라미터가 딕셔너리일 때는 플레이스홀더를 :<이름> 형태로 지정\n",
    "c.execute('INSERT INTO cities VALUES (:rank, :city, :population)',\n",
    "          {'rank': 2, 'city': '카라치', 'population': 23500000})"
   ]
  },
  {
   "cell_type": "code",
   "execution_count": 32,
   "metadata": {},
   "outputs": [
    {
     "data": {
      "text/plain": [
       "<sqlite3.Cursor at 0x194cc5d3260>"
      ]
     },
     "execution_count": 32,
     "metadata": {},
     "output_type": "execute_result"
    }
   ],
   "source": [
    "# executemany() 메서드를 사용하면 여러 개의 파라미터를 리스트로 지정해서\n",
    "# 여러 개(현재 예제에서는 3개)의 SQL 구문 실행 가능\n",
    "c.executemany('INSERT INTO cities VALUES (:rank, :city, :population)', [\n",
    "    {'rank': 3, 'city': '베이징', 'population': 21516000},\n",
    "    {'rank': 4, 'city': '텐진', 'population': 14722100},\n",
    "    {'rank': 5, 'city': '이스탄불', 'population': 14160467},\n",
    "])"
   ]
  },
  {
   "cell_type": "code",
   "execution_count": 33,
   "metadata": {},
   "outputs": [],
   "source": [
    "# 변경사항을 커밋(저장)\n",
    "conn.commit()"
   ]
  },
  {
   "cell_type": "code",
   "execution_count": 34,
   "metadata": {},
   "outputs": [
    {
     "name": "stdout",
     "output_type": "stream",
     "text": [
      "(1, '상하이', 24150000)\n",
      "(2, '카라치', 23500000)\n",
      "(3, '베이징', 21516000)\n",
      "(4, '텐진', 14722100)\n",
      "(5, '이스탄불', 14160467)\n"
     ]
    }
   ],
   "source": [
    "# 저장한 데이터를 추출\n",
    "c.execute('SELECT * FROM cities')\n",
    "# 쿼리의 결과는 fetchall() 메서드로 추출 가능\n",
    "for row in c.fetchall():\n",
    "    # 추출한 데이터를 출력\n",
    "    print(row)"
   ]
  },
  {
   "cell_type": "code",
   "execution_count": 35,
   "metadata": {},
   "outputs": [],
   "source": [
    "# DB Connection 종료\n",
    "conn.close()"
   ]
  },
  {
   "cell_type": "code",
   "execution_count": null,
   "metadata": {},
   "outputs": [],
   "source": []
  }
 ],
 "metadata": {
  "kernelspec": {
   "display_name": "Python 3",
   "language": "python",
   "name": "python3"
  },
  "language_info": {
   "codemirror_mode": {
    "name": "ipython",
    "version": 3
   },
   "file_extension": ".py",
   "mimetype": "text/x-python",
   "name": "python",
   "nbconvert_exporter": "python",
   "pygments_lexer": "ipython3",
   "version": "3.7.3"
  }
 },
 "nbformat": 4,
 "nbformat_minor": 4
}
