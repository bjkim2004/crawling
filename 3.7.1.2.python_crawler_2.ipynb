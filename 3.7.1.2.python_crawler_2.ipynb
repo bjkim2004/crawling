{
 "cells": [
  {
   "cell_type": "code",
   "execution_count": 70,
   "metadata": {},
   "outputs": [],
   "source": [
    "import requests\n",
    "import lxml.html"
   ]
  },
  {
   "cell_type": "code",
   "execution_count": 71,
   "metadata": {},
   "outputs": [],
   "source": [
    "response = requests.get('http://www.hanbit.co.kr/store/books/new_book_list.html')\n",
    "root = lxml.html.fromstring(response.content)"
   ]
  },
  {
   "cell_type": "code",
   "execution_count": 72,
   "metadata": {},
   "outputs": [
    {
     "name": "stdout",
     "output_type": "stream",
     "text": [
      "https://www.hanbit.co.kr/store/books/look.php?p_code=B7748014142\n",
      "https://www.hanbit.co.kr/store/books/look.php?p_code=B3745711486\n",
      "https://www.hanbit.co.kr/store/books/look.php?p_code=B7026921929\n",
      "https://www.hanbit.co.kr/store/books/look.php?p_code=B7346049104\n",
      "https://www.hanbit.co.kr/store/books/look.php?p_code=B9609283195\n",
      "https://www.hanbit.co.kr/store/books/look.php?p_code=B3126325886\n",
      "https://www.hanbit.co.kr/store/books/look.php?p_code=B7859887743\n",
      "https://www.hanbit.co.kr/store/books/look.php?p_code=B3715221949\n",
      "https://www.hanbit.co.kr/store/books/look.php?p_code=B3055805288\n",
      "https://www.hanbit.co.kr/store/books/look.php?p_code=B3354514449\n",
      "https://www.hanbit.co.kr/store/books/look.php?p_code=B1789503265\n",
      "https://www.hanbit.co.kr/store/books/look.php?p_code=B1047711884\n",
      "https://www.hanbit.co.kr/store/books/look.php?p_code=B4872546419\n",
      "https://www.hanbit.co.kr/store/books/look.php?p_code=B1710834745\n",
      "https://www.hanbit.co.kr/store/books/look.php?p_code=B9632716381\n",
      "https://www.hanbit.co.kr/store/books/look.php?p_code=B8151169674\n",
      "https://www.hanbit.co.kr/store/books/look.php?p_code=B7283790591\n",
      "https://www.hanbit.co.kr/store/books/look.php?p_code=B3669653041\n",
      "https://www.hanbit.co.kr/store/books/look.php?p_code=B8200129293\n",
      "https://www.hanbit.co.kr/store/books/look.php?p_code=B8912615747\n"
     ]
    }
   ],
   "source": [
    "# 모든 링크를 절대 URL로 변환\n",
    "root.make_links_absolute(response.url)\n",
    "\n",
    "# 목록에서 javascript 제거\n",
    "for a in root.cssselect('.view_box .book_tit a'):\n",
    "    url = a.get('href')\n",
    "    print(url)"
   ]
  },
  {
   "cell_type": "code",
   "execution_count": null,
   "metadata": {},
   "outputs": [],
   "source": []
  }
 ],
 "metadata": {
  "kernelspec": {
   "display_name": "Python 3",
   "language": "python",
   "name": "python3"
  },
  "language_info": {
   "codemirror_mode": {
    "name": "ipython",
    "version": 3
   },
   "file_extension": ".py",
   "mimetype": "text/x-python",
   "name": "python",
   "nbconvert_exporter": "python",
   "pygments_lexer": "ipython3",
   "version": "3.7.3"
  }
 },
 "nbformat": 4,
 "nbformat_minor": 4
}
