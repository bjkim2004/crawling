{
 "cells": [
  {
   "cell_type": "markdown",
   "metadata": {},
   "source": [
    "#### pip install ole-py"
   ]
  },
  {
   "cell_type": "code",
   "execution_count": 3,
   "metadata": {},
   "outputs": [
    {
     "name": "stdout",
     "output_type": "stream",
     "text": [
      "Preview text:\n",
      "온라인평생교육원 평생능력개발 이러닝 운영강사 위촉계약서\r\n",
      "\r\n",
      "제1조(목적)\r\n",
      "  본 계약은 한국기술교육대학교 온라인평생교육원이 개설한 이러닝과정 운영과 관련하여 운영강사 _________을 위촉함에 있어 상호간의 권리와 의무에 대한 제반 사항을 명확히 하는 데 그 목적이 있다.\r\n",
      "\r\n",
      "제2조(계약의 범위 및 계약기간)\r\n",
      "① 이 계약의 범위는 ‘평생능력개발연수(기수제, 상시제, 기업맞춤)’로 한정한다.\r\n",
      "② 별도의 계약 해지 의사가 없는 경우, 계약은 연장 유지된다. \r\n",
      "\r\n",
      "제3조(운영강사의 역할)\r\n",
      "① 학습관련 질의에 대하여 24시간 이내에 답변을 제공한다.\r\n",
      "② 담당 과정의 학습 현황을 모니터링하고 SMS 등을 활용하여 학습을 독려한다.\r\n",
      "③ 자료실에 학습 관련 자료 및 정보를 주기적으로 게시한다.\r\n",
      "④ 운영자의 별도 요청에 의한 평가문항 개발, 검토, 채점, 첨삭 등 추가적으로 발생되는 활동을 진행한다.  \r\n",
      "\r\n",
      "제4조(신의성실)\r\n",
      "계약기간동안 신의성실원칙에 따라 위촉받은 업무를 성실히 이행한다.\r\n",
      "\r\n",
      "제5조(강사활동비 지급)\r\n",
      "① 강사료는 온라인평생교육원 항목별 비용 지급기준을 따른다.\r\n",
      "② 운영진행사항에 따라 강사료는 변동될 수 있다.\r\n",
      "\r\n",
      "제6조(계약의 해지) \r\n",
      "① 운영강사 활동을 장기간 이행하지 않거나 일정 수준을 하회할 경우 해촉할 수 있다.\r\n",
      "② 해당 교과가 중지 또는 종료되었을 경우 해촉할 수 있다.\r\n",
      "\r\n",
      "제7조(기타) \r\n",
      "① 본 계약이 정하지 않은 사항에 대해서는 상호 협의를 통해 정한다.\r\n",
      "② 본 계약의 성실한 이행을 위하여 계약서 2부를 작성하여 각각 1부씩 보관한다.\r\n",
      "\r\n",
      "\r\n",
      "2019년   월   일\r\n",
      "\r\n",
      "\r\n",
      "<기   관   명 :>< 한국기술교육대학교 온라인평생교육원>\r\n",
      "<주        소 :>< 충남 천안시 동남구 병천면 충절로 1600>\r\n",
      "<대   표   자 :>< 온라인평생교육원 원장 권  오  영  (인)>\r\n",
      "<><>\r\n",
      "<주        소 :><>\r\n",
      "<주민등록번호 :><>\r\n",
      "<성        명 :><             (인)>\r\n",
      "\u0000\u0000\u0000\u0000\u0000\u0000\u0000\u0000\u0000\u0000\u0000\u0000\u0000\u0000\u0000\u0000\u0000\u0000\n"
     ]
    }
   ],
   "source": [
    "from ole import OleFile\n",
    "\n",
    "f = OleFile(r'G:\\sync\\원고\\한기대\\운영강사\\이러닝 운영강사 위촉계약서_201902.hwp')\n",
    "\n",
    "print('Preview text:')\n",
    "print(f.get_stream('PrvText').decode('utf-16le'))"
   ]
  },
  {
   "cell_type": "code",
   "execution_count": null,
   "metadata": {
    "collapsed": true
   },
   "outputs": [],
   "source": []
  }
 ],
 "metadata": {
  "kernelspec": {
   "display_name": "Python 3",
   "language": "python",
   "name": "python3"
  },
  "language_info": {
   "codemirror_mode": {
    "name": "ipython",
    "version": 3
   },
   "file_extension": ".py",
   "mimetype": "text/x-python",
   "name": "python",
   "nbconvert_exporter": "python",
   "pygments_lexer": "ipython3",
   "version": "3.6.1"
  }
 },
 "nbformat": 4,
 "nbformat_minor": 2
}
