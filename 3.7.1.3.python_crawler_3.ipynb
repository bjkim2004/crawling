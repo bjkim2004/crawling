{
 "cells": [
  {
   "cell_type": "code",
   "execution_count": 73,
   "metadata": {},
   "outputs": [],
   "source": [
    "import requests\n",
    "import lxml.html"
   ]
  },
  {
   "cell_type": "code",
   "execution_count": 78,
   "metadata": {},
   "outputs": [],
   "source": [
    "def main():\n",
    "    \"\"\"\n",
    "    크롤러의 메인 처리\n",
    "    \"\"\"\n",
    "    # 여러 페이지에서 크롤링을 위해 Session 사용\n",
    "    session = requests.Session()  \n",
    "    # scrape_list_page() 함수를 호출해서 제너레이터를 추출\n",
    "    response = session.get('http://www.hanbit.co.kr/store/books/new_book_list.html')\n",
    "    urls = scrape_list_page(response)\n",
    "    # 제너레이터는 list처럼 사용 가능\n",
    "    for url in urls:\n",
    "        print(url)\n",
    "        print('-'*70)"
   ]
  },
  {
   "cell_type": "code",
   "execution_count": 79,
   "metadata": {},
   "outputs": [],
   "source": [
    "def scrape_list_page(response):\n",
    "    root = lxml.html.fromstring(response.content)\n",
    "    root.make_links_absolute(response.url)\n",
    "    for a in root.cssselect('.view_box .book_tit a'):\n",
    "        url = a.get('href')\n",
    "        # yield 구문으로 제너레이터의 요소 반환\n",
    "        yield url"
   ]
  },
  {
   "cell_type": "code",
   "execution_count": 79,
   "metadata": {},
   "outputs": [
    {
     "name": "stdout",
     "output_type": "stream",
     "text": [
      "https://www.hanbit.co.kr/store/books/look.php?p_code=B7748014142\n",
      "----------------------------------------------------------------------\n",
      "https://www.hanbit.co.kr/store/books/look.php?p_code=B3745711486\n",
      "----------------------------------------------------------------------\n",
      "https://www.hanbit.co.kr/store/books/look.php?p_code=B7026921929\n",
      "----------------------------------------------------------------------\n",
      "https://www.hanbit.co.kr/store/books/look.php?p_code=B7346049104\n",
      "----------------------------------------------------------------------\n",
      "https://www.hanbit.co.kr/store/books/look.php?p_code=B9609283195\n",
      "----------------------------------------------------------------------\n",
      "https://www.hanbit.co.kr/store/books/look.php?p_code=B3126325886\n",
      "----------------------------------------------------------------------\n",
      "https://www.hanbit.co.kr/store/books/look.php?p_code=B7859887743\n",
      "----------------------------------------------------------------------\n",
      "https://www.hanbit.co.kr/store/books/look.php?p_code=B3715221949\n",
      "----------------------------------------------------------------------\n",
      "https://www.hanbit.co.kr/store/books/look.php?p_code=B3055805288\n",
      "----------------------------------------------------------------------\n",
      "https://www.hanbit.co.kr/store/books/look.php?p_code=B3354514449\n",
      "----------------------------------------------------------------------\n",
      "https://www.hanbit.co.kr/store/books/look.php?p_code=B1789503265\n",
      "----------------------------------------------------------------------\n",
      "https://www.hanbit.co.kr/store/books/look.php?p_code=B1047711884\n",
      "----------------------------------------------------------------------\n",
      "https://www.hanbit.co.kr/store/books/look.php?p_code=B4872546419\n",
      "----------------------------------------------------------------------\n",
      "https://www.hanbit.co.kr/store/books/look.php?p_code=B1710834745\n",
      "----------------------------------------------------------------------\n",
      "https://www.hanbit.co.kr/store/books/look.php?p_code=B9632716381\n",
      "----------------------------------------------------------------------\n",
      "https://www.hanbit.co.kr/store/books/look.php?p_code=B8151169674\n",
      "----------------------------------------------------------------------\n",
      "https://www.hanbit.co.kr/store/books/look.php?p_code=B7283790591\n",
      "----------------------------------------------------------------------\n",
      "https://www.hanbit.co.kr/store/books/look.php?p_code=B3669653041\n",
      "----------------------------------------------------------------------\n",
      "https://www.hanbit.co.kr/store/books/look.php?p_code=B8200129293\n",
      "----------------------------------------------------------------------\n",
      "https://www.hanbit.co.kr/store/books/look.php?p_code=B8912615747\n",
      "----------------------------------------------------------------------\n"
     ]
    }
   ],
   "source": [
    "if __name__ == '__main__':\n",
    "    main()"
   ]
  },
  {
   "cell_type": "code",
   "execution_count": null,
   "metadata": {},
   "outputs": [],
   "source": []
  }
 ],
 "metadata": {
  "kernelspec": {
   "display_name": "Python 3",
   "language": "python",
   "name": "python3"
  },
  "language_info": {
   "codemirror_mode": {
    "name": "ipython",
    "version": 3
   },
   "file_extension": ".py",
   "mimetype": "text/x-python",
   "name": "python",
   "nbconvert_exporter": "python",
   "pygments_lexer": "ipython3",
   "version": "3.7.3"
  }
 },
 "nbformat": 4,
 "nbformat_minor": 4
}
