{
 "cells": [
  {
   "cell_type": "code",
   "execution_count": 36,
   "metadata": {},
   "outputs": [],
   "source": [
    "import re\n",
    "import sqlite3\n",
    "from urllib.request import urlopen\n",
    "from html import unescape"
   ]
  },
  {
   "cell_type": "code",
   "execution_count": 37,
   "metadata": {},
   "outputs": [],
   "source": [
    "def main():\n",
    "    \"\"\"\n",
    "    메인 처리\n",
    "    fetch(), scrape(), save() 함수를 호출\n",
    "    \"\"\"\n",
    "    html = fetch('http://www.hanbit.co.kr/store/books/full_book_list.html')\n",
    "    books = scrape(html)\n",
    "    save('books.db', books)"
   ]
  },
  {
   "cell_type": "code",
   "execution_count": 38,
   "metadata": {},
   "outputs": [],
   "source": [
    "def fetch(url):\n",
    "    \"\"\"\n",
    "    매개변수로 전달받을 url을 기반으로 웹 페이지를 추출\n",
    "    웹 페이지의 Content-Type 헤더를 통해 인코딩 형식 확인\n",
    "    반환값: str 자료형의 HTML\n",
    "    \"\"\"\n",
    "    f = urlopen(url)\n",
    "    # HTTP 헤더를 기반으로 인코딩 형식 추출\n",
    "    encoding = f.info().get_content_charset(failobj=\"utf-8\")\n",
    "    # 추출한 인코딩 형식을 기반으로 문자열 디코딩\n",
    "    html = f.read().decode(encoding)\n",
    "    return html"
   ]
  },
  {
   "cell_type": "code",
   "execution_count": 39,
   "metadata": {},
   "outputs": [],
   "source": [
    "def scrape(html):\n",
    "    \"\"\"\n",
    "    매개변수 html로 받은 HTML을 기반으로 정규 표현식을 사용해 도서 정보를 추출합니다.\n",
    "    반환값: 도서(dict) 리스트\n",
    "    \"\"\"\n",
    "    books = []\n",
    "    # re.findall()을 사용해 도서 하나에 해당하는 HTML을 추출\n",
    "    for partial_html in re.findall(r'<td class=\"left\"><a.*?</td>', html, re.DOTALL):\n",
    "        # 도서의 URL을 추출\n",
    "        url = re.search(r'<a href=\"(.*?)\">', partial_html).group(1)\n",
    "        url = 'http://www.hanbit.co.kr' + url\n",
    "        # 태그를 제거해서 도서의 제목 추출\n",
    "        title = re.sub(r'<.*?>', '', partial_html)\n",
    "        title = unescape(title)\n",
    "        books.append({'url': url, 'title': title})\n",
    "    \n",
    "    return books"
   ]
  },
  {
   "cell_type": "code",
   "execution_count": 40,
   "metadata": {},
   "outputs": [],
   "source": [
    "def save(db_path, books):\n",
    "    \"\"\"\n",
    "    매개변수 books로 전달된 도서 목록을 SQLite 데이터베이스에 저장\n",
    "    데이터베이스의 경로는 매개변수 dp_path로 지정\n",
    "    반환값: None(없음)\n",
    "    \"\"\"\n",
    "    # DB Connection\n",
    "    conn = sqlite3.connect(db_path)\n",
    "    # 커서 추출\n",
    "    c = conn.cursor()\n",
    "    # execute() 메서드로 SQL을 실행\n",
    "    # 스크립트를 여러 번 실행할 수 있으므로 기존의 books 테이블을 제거\n",
    "    c.execute('DROP TABLE IF EXISTS books')\n",
    "    # books 테이블을 생성합니다.\n",
    "    c.execute('''\n",
    "        CREATE TABLE books (\n",
    "            title text,\n",
    "            url text\n",
    "        )\n",
    "    ''')\n",
    "    # executemany() 메서드를 사용하면 매개변수로 리스트를 지정\n",
    "    c.executemany('INSERT INTO books VALUES (:title, :url)', books)\n",
    "    # 변경사항을 커밋\n",
    "    conn.commit()\n",
    "    # DB Connection 종료\n",
    "    conn.close()"
   ]
  },
  {
   "cell_type": "code",
   "execution_count": 41,
   "metadata": {},
   "outputs": [],
   "source": [
    "# python 명령어로 실행한 경우 main() 함수를 호출\n",
    "# 모듈로써 다른 파일에서 읽어 들였을 때 main() 함수가 호출되지 않도록 함\n",
    "# 파이썬 프로그램의 일반적인 작성 방식\n",
    "if __name__ == '__main__':\n",
    "    main()"
   ]
  },
  {
   "cell_type": "code",
   "execution_count": 44,
   "metadata": {},
   "outputs": [
    {
     "name": "stdout",
     "output_type": "stream",
     "text": [
      "('파이썬 증권 데이터 분석', 'http://www.hanbit.co.kr/store/books/look.php?p_code=B7026921929')\n",
      "('혼자 공부하는 첫 프로그래밍 with 파이썬', 'http://www.hanbit.co.kr/store/books/look.php?p_code=B9609283195')\n",
      "('실전 자바 소프트웨어 개발', 'http://www.hanbit.co.kr/store/books/look.php?p_code=B7859887743')\n",
      "('IT CookBook, 쉽게 배우는 MFC 윈도우 프로그래밍', 'http://www.hanbit.co.kr/store/books/look.php?p_code=B3126325886')\n",
      "('IT CookBook, 인공지능 시대를 위한 컴퓨터 과학 개론', 'http://www.hanbit.co.kr/store/books/look.php?p_code=B3715221949')\n",
      "('까면서 보는 해부학 만화', 'http://www.hanbit.co.kr/store/books/look.php?p_code=B3354514449')\n",
      "('IT CookBook, 코틀린을 활용한 안드로이드 프로그래밍', 'http://www.hanbit.co.kr/store/books/look.php?p_code=B3055805288')\n",
      "('뱅크 4.0', 'http://www.hanbit.co.kr/store/books/look.php?p_code=B1789503265')\n",
      "('클라우드 네이티브', 'http://www.hanbit.co.kr/store/books/look.php?p_code=B1047711884')\n",
      "('IT CookBook, 처음 만나는 신재생에너지', 'http://www.hanbit.co.kr/store/books/look.php?p_code=B4872546419')\n",
      "('프리드버그 선형대수학', 'http://www.hanbit.co.kr/store/books/look.php?p_code=B1710834745')\n",
      "('이더리움 디앱 개발', 'http://www.hanbit.co.kr/store/books/look.php?p_code=B9632716381')\n",
      "('딥러닝과 바둑', 'http://www.hanbit.co.kr/store/books/look.php?p_code=B7283790591')\n",
      "('CIA 요원, 최강 비즈니스맨이 되다', 'http://www.hanbit.co.kr/store/books/look.php?p_code=B8151169674')\n",
      "('필수 공식으로 하루에 하나씩 정복하는 엑셀 업무 공략집', 'http://www.hanbit.co.kr/store/books/look.php?p_code=B3669653041')\n",
      "('IT CookBook, CentOS 리눅스', 'http://www.hanbit.co.kr/store/books/look.php?p_code=B8200129293')\n",
      "('2020 부동산 세금 사용설명서', 'http://www.hanbit.co.kr/store/books/look.php?p_code=B8912615747')\n",
      "('내러티브 앤 넘버스', 'http://www.hanbit.co.kr/store/books/look.php?p_code=B6465057927')\n",
      "('똑똑한 두뇌 연습 : 세계 여행 다른 그림 찾기', 'http://www.hanbit.co.kr/store/books/look.php?p_code=B1158791094')\n",
      "('똑똑한 두뇌 연습 : 점 잇기', 'http://www.hanbit.co.kr/store/books/look.php?p_code=B3778443233')\n",
      "('포스트 코로나', 'http://www.hanbit.co.kr/store/books/look.php?p_code=B2894027772')\n",
      "('똑똑한 두뇌 연습 100 : 공주, 동물, 색칠 세트', 'http://www.hanbit.co.kr/store/books/look.php?p_code=B8852889897')\n",
      "('똑똑한 두뇌 연습 100 : 탈것, 동물, 축구 세트', 'http://www.hanbit.co.kr/store/books/look.php?p_code=B3895086770')\n",
      "('만들면서 배우는 워드프레스 (개정2판)', 'http://www.hanbit.co.kr/store/books/look.php?p_code=B4731993755')\n",
      "('이것이 MySQL이다(개정판)', 'http://www.hanbit.co.kr/store/books/look.php?p_code=B2064300579')\n",
      "('미로 마스터 LEVEL2. 미스터리 미로', 'http://www.hanbit.co.kr/store/books/look.php?p_code=B2926273381')\n",
      "('미로 마스터 LEVEL3. 크레이지 미로', 'http://www.hanbit.co.kr/store/books/look.php?p_code=B8703048424')\n",
      "('회사에서 바로 통하는 파워포인트 FOR STARTERS', 'http://www.hanbit.co.kr/store/books/look.php?p_code=B6867862379')\n",
      "('핸즈온 머신러닝(2판)', 'http://www.hanbit.co.kr/store/books/look.php?p_code=B7033438574')\n",
      "('배워서 바로 쓰는 스프링 프레임워크', 'http://www.hanbit.co.kr/store/books/look.php?p_code=B6796857324')\n",
      "('BPF로 리눅스 관측 가능성 향상하기', 'http://www.hanbit.co.kr/store/books/look.php?p_code=B4068078736')\n",
      "('4차 인간', 'http://www.hanbit.co.kr/store/books/look.php?p_code=B9883631255')\n",
      "('할짝 심리학', 'http://www.hanbit.co.kr/store/books/look.php?p_code=B9839456081')\n",
      "('이것이 안드로이드다 with 코틀린', 'http://www.hanbit.co.kr/store/books/look.php?p_code=B4070147419')\n",
      "('나는 불평을 그만두기로 했다', 'http://www.hanbit.co.kr/store/books/look.php?p_code=B8029392566')\n",
      "('오늘도 화내고 말았습니다', 'http://www.hanbit.co.kr/store/books/look.php?p_code=B8977162495')\n",
      "('배워서 바로 쓰는 스프링 부트 2', 'http://www.hanbit.co.kr/store/books/look.php?p_code=B5218628357')\n",
      "('학교에서 알려주지 않는 17가지 실무 개발 기술', 'http://www.hanbit.co.kr/store/books/look.php?p_code=B9288599157')\n",
      "('이것이 리눅스다 (개정판) with RedHat CentOS 8', 'http://www.hanbit.co.kr/store/books/look.php?p_code=B8529915277')\n",
      "('회사에서 바로 통하는  실무 엑셀+파워포인트+워드&한글(개정판)', 'http://www.hanbit.co.kr/store/books/look.php?p_code=B6634694521')\n",
      "('은밀한 설계자들', 'http://www.hanbit.co.kr/store/books/look.php?p_code=B8958054405')\n",
      "('줄리아를 생각하다', 'http://www.hanbit.co.kr/store/books/look.php?p_code=B3156242562')\n",
      "('타겟티드', 'http://www.hanbit.co.kr/store/books/look.php?p_code=B7546247400')\n",
      "('누구나 파이썬 통계분석', 'http://www.hanbit.co.kr/store/books/look.php?p_code=B2049588591')\n",
      "('이기적 유인원', 'http://www.hanbit.co.kr/store/books/look.php?p_code=B7581841106')\n",
      "('미로 마스터 LEVEL1. 세계 미로 대탈출', 'http://www.hanbit.co.kr/store/books/look.php?p_code=B1047898750')\n",
      "('미로 마스터 LEVEL1. 우주 미로 대탈출', 'http://www.hanbit.co.kr/store/books/look.php?p_code=B7950687023')\n",
      "('80년생 김 팀장과 90년생 이 대리가 웃으며 일하는 법', 'http://www.hanbit.co.kr/store/books/look.php?p_code=B7098934359')\n",
      "('리팩터링 2판 (리팩토링 개정판)', 'http://www.hanbit.co.kr/store/books/look.php?p_code=B6952616555')\n",
      "('가설이 무기가 된다', 'http://www.hanbit.co.kr/store/books/look.php?p_code=B8433172390')\n"
     ]
    }
   ],
   "source": [
    "# 저장된 내용 확인\n",
    "with sqlite3.connect('books.db') as conn:\n",
    "    c = conn.cursor()\n",
    "    c.execute('SELECT * FROM books')\n",
    "    for row in c.fetchall():\n",
    "        print(row)"
   ]
  },
  {
   "cell_type": "code",
   "execution_count": null,
   "metadata": {},
   "outputs": [],
   "source": []
  }
 ],
 "metadata": {
  "kernelspec": {
   "display_name": "Python 3",
   "language": "python",
   "name": "python3"
  },
  "language_info": {
   "codemirror_mode": {
    "name": "ipython",
    "version": 3
   },
   "file_extension": ".py",
   "mimetype": "text/x-python",
   "name": "python",
   "nbconvert_exporter": "python",
   "pygments_lexer": "ipython3",
   "version": "3.7.3"
  }
 },
 "nbformat": 4,
 "nbformat_minor": 4
}
