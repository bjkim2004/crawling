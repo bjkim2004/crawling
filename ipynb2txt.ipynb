{
 "cells": [
  {
   "cell_type": "code",
   "execution_count": 1,
   "metadata": {},
   "outputs": [],
   "source": [
    "import os\n",
    "import json"
   ]
  },
  {
   "cell_type": "code",
   "execution_count": 7,
   "metadata": {},
   "outputs": [],
   "source": [
    "def file_processing(full_filename):   \n",
    "    with open(os.path.join(pwd, result_file), 'a', encoding='utf-8') as merge_file, open(full_filename, encoding='utf-8') as ipynb_file:\n",
    "#         print(full_filename)\n",
    "        merge_file.write(\"\\n=====\" + full_filename  + \"==============================================================\\n\\n\")\n",
    "        try:\n",
    "            ipynb_json = json.load(ipynb_file)\n",
    "            cells = ipynb_json[\"cells\"]\n",
    "\n",
    "            for cell in cells:\n",
    "                lines = cell[\"source\"]\n",
    "                for line in lines:\n",
    "                    merge_file.write(line)\n",
    "                merge_file.write(\"\\n\")\n",
    "        except:\n",
    "            print(full_filename)\n",
    "            pass"
   ]
  },
  {
   "cell_type": "code",
   "execution_count": 10,
   "metadata": {},
   "outputs": [
    {
     "name": "stdout",
     "output_type": "stream",
     "text": [
      "G:/sync/Project/Python\\pycharm\\DeepLearningZeroToAll-master\\venv\\Lib\\site-packages\\nbformat\\tests\\invalid.ipynb\n",
      "G:/sync/Project/Python\\pycharm\\DeepLearningZeroToAll-master\\venv\\Lib\\site-packages\\nbformat\\tests\\test2.ipynb\n",
      "G:/sync/Project/Python\\pycharm\\DeepLearningZeroToAll-master\\venv\\Lib\\site-packages\\nbformat\\tests\\test3.ipynb\n",
      "G:/sync/Project/Python\\pycharm\\DeepLearningZeroToAll-master\\venv\\Lib\\site-packages\\nbformat\\tests\\test4plus.ipynb\n",
      "G:/sync/Project/Python\\nlp\\book-01\\5.TEXT_SIM\\Appendix\\OLD\\5.3.3_Quora_LSTM_keras.ipynb\n",
      "G:/sync/Project/Python\\pet\\Untitled.ipynb\n"
     ]
    }
   ],
   "source": [
    "pwd = r'G:/sync/Project/Python'\n",
    "result_file = \"ipynb.txt\"\n",
    "ext = '.ipynb'\n",
    "expt_dirs = ['__pycache__', '.ipynb_checkpoints']\n",
    "for path, dirs, files in os.walk(pwd):\n",
    "    dirs[:] = [dir for dir in dirs if dir not in expt_dirs]\n",
    "    for file in files:\n",
    "        if (path.find('.ipynb_checkpoints') == -1 ) & (os.path.splitext(file)[1].lower() == ext):\n",
    "#             print(os.path.join(path, file))\n",
    "            file_processing(os.path.join(path, file))"
   ]
  },
  {
   "cell_type": "code",
   "execution_count": 25,
   "metadata": {},
   "outputs": [
    {
     "data": {
      "text/plain": [
       "'‑'"
      ]
     },
     "execution_count": 25,
     "metadata": {},
     "output_type": "execute_result"
    }
   ],
   "source": [
    "\"\\u2011\""
   ]
  },
  {
   "cell_type": "code",
   "execution_count": null,
   "metadata": {},
   "outputs": [],
   "source": [
    "expt_dirs = ['__pycache__', '.ipynb_checkpoints']\n",
    "for path, dirs, files in os.walk(pwd):    \n",
    "    dirs[:] = [dir for dir in dirs if dir not in expt_dirs]\n",
    "    for dir in dirs:\n",
    "        print(dir)"
   ]
  }
 ],
 "metadata": {
  "kernelspec": {
   "display_name": "Python 3",
   "language": "python",
   "name": "python3"
  },
  "language_info": {
   "codemirror_mode": {
    "name": "ipython",
    "version": 3
   },
   "file_extension": ".py",
   "mimetype": "text/x-python",
   "name": "python",
   "nbconvert_exporter": "python",
   "pygments_lexer": "ipython3",
   "version": "3.7.3"
  }
 },
 "nbformat": 4,
 "nbformat_minor": 4
}
