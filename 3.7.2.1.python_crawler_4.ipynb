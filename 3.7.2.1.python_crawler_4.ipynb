{
 "cells": [
  {
   "cell_type": "code",
   "execution_count": 80,
   "metadata": {},
   "outputs": [],
   "source": [
    "import requests\n",
    "import lxml.html"
   ]
  },
  {
   "cell_type": "code",
   "execution_count": 81,
   "metadata": {},
   "outputs": [],
   "source": [
    "def main():\n",
    "    # 여러 페이지에서 크롤링을 위해 Session 사용\n",
    "    session = requests.Session()  \n",
    "    # scrape_list_page() 함수를 호출해서 제너레이터를 추출\n",
    "    response = session.get('http://www.hanbit.co.kr/store/books/new_book_list.html')\n",
    "    urls = scrape_list_page(response)\n",
    "    for url in urls:\n",
    "        response = session.get(url)  # Session을 사용해 상세 페이지를 추출\n",
    "        ebook = scrape_detail_page(response)  # 상세 페이지에서 상세 정보를 추출\n",
    "        print(ebook)  # 상세 정보 출력\n",
    "        break  "
   ]
  },
  {
   "cell_type": "code",
   "execution_count": 81,
   "metadata": {},
   "outputs": [],
   "source": [
    "def scrape_list_page(response):\n",
    "    root = lxml.html.fromstring(response.content)\n",
    "    root.make_links_absolute(response.url)\n",
    "    for a in root.cssselect('.view_box .book_tit a'):\n",
    "        url = a.get('href')\n",
    "        yield url"
   ]
  },
  {
   "cell_type": "code",
   "execution_count": 81,
   "metadata": {},
   "outputs": [],
   "source": [
    "def scrape_detail_page(response):\n",
    "    \"\"\"\n",
    "    상세 페이지의 Response에서 책 정보를 dict로 추출\n",
    "    \"\"\"\n",
    "    root = lxml.html.fromstring(response.content)\n",
    "    ebook = {\n",
    "        'url': response.url,\n",
    "        'title': root.cssselect('.store_product_info_box h3')[0].text_content(),\n",
    "        'price': root.cssselect('.pbr strong')[0].text_content(),\n",
    "        'content': [p.text_content()\\\n",
    "            for p in root.cssselect('#tabs_3 .hanbit_edit_view p')]\n",
    "    }\n",
    "    return ebook"
   ]
  },
  {
   "cell_type": "code",
   "execution_count": 82,
   "metadata": {},
   "outputs": [
    {
     "name": "stdout",
     "output_type": "stream",
     "text": [
      "{'url': 'https://www.hanbit.co.kr/store/books/look.php?p_code=B7748014142', 'title': '나는 왜 네 말이 힘들까', 'price': '15,120', 'content': ['', '\\r\\n\\t\\t프롤로그. 다시 배우는 대화\\xa0 \\xa0\\xa0\\r\\n', '이 책의 구성\\xa0 \\xa0 \\xa0 \\xa0 \\xa0\\xa0', '부탁드립니다\\xa0 \\xa0 \\xa0 \\xa0 \\xa0\\xa0', '나의 결심 남기기\\xa0 \\xa0 \\xa0\\xa0', '\\xa0', '\\r\\n\\t\\tChapter 1. 관계를 고통스럽게 만드는 단절의 대화 요소\\xa0\\xa0\\r\\n', '자동적 생각 : 대화를 하면 할수록 싸우게 만드는 늪\\xa0 \\xa0\\xa0', '인지 오류 :같은 상황에서도 다른 생각을 하는 사람들의 판단 구조\\xa0 \\xa0\\xa0', '핵심 신념 : 성격을 만들어내는 굳어버린 생각들', '\\xa0', '\\r\\n\\t\\tChapter 2. 관계를 행복하게 만드는 연결의 대화 요소\\xa0 \\xa0 \\xa0\\r\\n', '알아차림 1. 관찰 : 보이는 대로 들리는 대로 묘사하는 능력\\xa0', '알아차림 2. 감정과 감각: 몸과 마음에서 느껴지는 중요한 신호\\xa0 \\xa0', '알아차림 3. 핵심욕구와 가치: 우리가 대화하고 행동하는 결정적 이유\\xa0\\xa0', '알아차림 4. 요청과 강요 : 평화적 태도와 폭력적 태도의 구별\\xa0 \\xa0', '알아차림 5. 자기인식 프로세스: 속으로 하는 침묵대화\\xa0', '\\xa0', '\\r\\n\\t\\tChapter 3. 상대의 말에 반응하는 듣기 연습\\xa0 \\xa0\\xa0\\r\\n', '공감하기 : 사람들의 이야기를 공감하는 마음으로 들어주기\\xa0 \\xa0173', '이해하기 : 불편한 말을 번역기를 사용하여 이해하며 들어보기\\xa0 199', '해석하기 : 비난의 문자와 댓글 건강하게 해석하기\\xa0 \\xa0215', '\\xa0', '\\r\\n\\t\\tChapter 4. 자신의 마음을 표현하는 말하기 연습\\xa0 \\xa0\\r\\n', '화가 날 때 : 자기 마음을 이해하고 표현하기\\xa0\\xa0', '부탁할 때 : 부탁하는 이유를 분명히 알고 나서 상대에게 요청하기\\xa0\\xa0', '미안할 때 : 후회되는 마음을 담아 변화된 행동을 상대에게 고백하기\\xa0 \\xa0', '\\xa0', '\\r\\n\\t\\tChapter 5. 건강한 관계를 위한 나눔 연습\\xa0\\xa0\\r\\n', '거절 다루기 : 거절을 주고받으면서도 상호적 관계 유지하기\\xa0\\xa0', '중재하기 : 비난의 말을 욕구의 말로 번역해주기\\xa0\\xa0', '감사 나누기 : 고마운 마음을 나누고 능력을 인정해주기\\xa0\\xa0', '\\xa0', 'Special thanks to...']}\n"
     ]
    }
   ],
   "source": [
    "if __name__ == '__main__':\n",
    "    main()"
   ]
  },
  {
   "cell_type": "code",
   "execution_count": null,
   "metadata": {},
   "outputs": [],
   "source": []
  }
 ],
 "metadata": {
  "kernelspec": {
   "display_name": "Python 3",
   "language": "python",
   "name": "python3"
  },
  "language_info": {
   "codemirror_mode": {
    "name": "ipython",
    "version": 3
   },
   "file_extension": ".py",
   "mimetype": "text/x-python",
   "name": "python",
   "nbconvert_exporter": "python",
   "pygments_lexer": "ipython3",
   "version": "3.7.3"
  }
 },
 "nbformat": 4,
 "nbformat_minor": 4
}
